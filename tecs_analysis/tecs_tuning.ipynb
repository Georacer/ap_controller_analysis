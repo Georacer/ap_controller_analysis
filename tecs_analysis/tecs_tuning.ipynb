{
 "cells": [
  {
   "cell_type": "code",
   "execution_count": 28,
   "id": "083e2b14",
   "metadata": {},
   "outputs": [
    {
     "name": "stdout",
     "output_type": "stream",
     "text": [
      "The blackcellmagic extension is already loaded. To reload it, use:\n",
      "  %reload_ext blackcellmagic\n",
      "The autoreload extension is already loaded. To reload it, use:\n",
      "  %reload_ext autoreload\n"
     ]
    }
   ],
   "source": [
    "import sys\n",
    "\n",
    "import control as ct\n",
    "# import sympy\n",
    "# from sympy.plotting import plot\n",
    "import sympy as sp\n",
    "import numpy as np\n",
    "# import penbegone as pbg\n",
    "from penbegone import common as bgcom\n",
    "# from penbegone import plotting as bgplot\n",
    "# from penbegone.common import printeq\n",
    "\n",
    "sys.path.append(\"..\")\n",
    "\n",
    "import plant as p\n",
    "\n",
    "values = {}  # The dictionary holding values for the symbolic variables.\n",
    "\n",
    "%matplotlib inline\n",
    "%load_ext blackcellmagic\n",
    "%load_ext autoreload\n",
    "%autoreload 2"
   ]
  },
  {
   "cell_type": "markdown",
   "id": "e940344d",
   "metadata": {},
   "source": [
    "Create a simplified longitudinal model."
   ]
  },
  {
   "cell_type": "code",
   "execution_count": 29,
   "id": "1b862a61",
   "metadata": {},
   "outputs": [
    {
     "data": {
      "text/markdown": [
       "[1]: $v_{dot}$ = $\\frac{- 0.5 C_{drag} S \\rho v^{2} + F_{t} \\delta_{t} - g \\sin{\\left(\\theta \\right)}}{m}$"
      ],
      "text/plain": [
       "<IPython.core.display.Markdown object>"
      ]
     },
     "metadata": {},
     "output_type": "display_data"
    },
    {
     "data": {
      "text/markdown": [
       "[2]: $h_{dot}$ = $v \\sin{\\left(\\theta - \\theta_{0} \\right)}$"
      ],
      "text/plain": [
       "<IPython.core.display.Markdown object>"
      ]
     },
     "metadata": {},
     "output_type": "display_data"
    }
   ],
   "source": [
    "nllm = p.build_longitudinal_nonlinear_model()\n",
    "\n",
    "variables = [p.pitch, p.throttle, p.v, p.h]\n",
    "throttle_0 = sp.symbols(\"throttle_0\")\n",
    "v_0 = sp.symbols(\"v_0\")\n",
    "h_0 = sp.symbols(\"h_0\")\n",
    "trim = [p.theta_0, throttle_0, v_0, h_0]\n",
    "states = [p.v, p.h]\n",
    "derivatives = [p.v_dot, p.h_dot]\n",
    "\n",
    "nllm.show()"
   ]
  },
  {
   "cell_type": "markdown",
   "id": "353ad527",
   "metadata": {},
   "source": [
    "Linearize the model."
   ]
  },
  {
   "cell_type": "code",
   "execution_count": 30,
   "id": "0d21192f",
   "metadata": {},
   "outputs": [
    {
     "data": {
      "text/markdown": [
       "[1]: $v_{dot}$ = $- \\frac{1.0 C_{drag} S \\rho v_{0} \\left(v - v_{0}\\right)}{m} + \\frac{F_{t} \\left(\\delta_{t} - throttle_{0}\\right)}{m} - \\frac{g \\left(\\theta - \\theta_{0}\\right) \\cos{\\left(\\theta_{0} \\right)}}{m} + \\frac{- 0.5 C_{drag} S \\rho v_{0}^{2} + F_{t} throttle_{0} - g \\sin{\\left(\\theta_{0} \\right)}}{m}$"
      ],
      "text/plain": [
       "<IPython.core.display.Markdown object>"
      ]
     },
     "metadata": {},
     "output_type": "display_data"
    },
    {
     "data": {
      "text/markdown": [
       "[2]: $h_{dot}$ = $v_{0} \\left(\\theta - \\theta_{0}\\right)$"
      ],
      "text/plain": [
       "<IPython.core.display.Markdown object>"
      ]
     },
     "metadata": {},
     "output_type": "display_data"
    }
   ],
   "source": [
    "llm = bgcom.Equations()\n",
    "for x, f in zip(derivatives, nllm):\n",
    "    f = f+x  # Do not include the derivative in the linearization.\n",
    "    llm.add(x, bgcom.linearize(f, variables, trim))\n",
    "\n",
    "llm.show()"
   ]
  },
  {
   "cell_type": "markdown",
   "id": "b86a9a2b",
   "metadata": {},
   "source": [
    "Trim around zero."
   ]
  },
  {
   "cell_type": "code",
   "execution_count": 31,
   "id": "9b4c0947",
   "metadata": {},
   "outputs": [
    {
     "data": {
      "text/markdown": [
       "[1]: $v_{dot}$ = $- \\frac{20.0 C_{drag} S \\rho \\left(v - 20\\right)}{m} - \\frac{200.0 C_{drag} S \\rho}{m} + \\frac{F_{t} \\delta_{t}}{m} - \\frac{g \\theta}{m}$"
      ],
      "text/plain": [
       "<IPython.core.display.Markdown object>"
      ]
     },
     "metadata": {},
     "output_type": "display_data"
    },
    {
     "data": {
      "text/markdown": [
       "[2]: $h_{dot}$ = $20 \\theta$"
      ],
      "text/plain": [
       "<IPython.core.display.Markdown object>"
      ]
     },
     "metadata": {},
     "output_type": "display_data"
    }
   ],
   "source": [
    "values[p.theta_0] = 0\n",
    "values[throttle_0] = 0\n",
    "values[v_0] = 20\n",
    "values[h_0] = 0\n",
    "\n",
    "llm.subs(values)\n",
    "llm.show(show_all=True)"
   ]
  },
  {
   "cell_type": "markdown",
   "id": "244ea4c5",
   "metadata": {},
   "source": [
    "Assign values to calculate the pole-zero plot."
   ]
  },
  {
   "cell_type": "code",
   "execution_count": 32,
   "id": "8d28e648",
   "metadata": {},
   "outputs": [
    {
     "data": {
      "text/markdown": [
       "[1]: $v_{dot}$ = $3 \\delta_{t} - 0.981 \\theta - 0.49 v + 4.9$"
      ],
      "text/plain": [
       "<IPython.core.display.Markdown object>"
      ]
     },
     "metadata": {},
     "output_type": "display_data"
    },
    {
     "data": {
      "text/markdown": [
       "[2]: $h_{dot}$ = $20 \\theta$"
      ],
      "text/plain": [
       "<IPython.core.display.Markdown object>"
      ]
     },
     "metadata": {},
     "output_type": "display_data"
    }
   ],
   "source": [
    "values[p.rho] = 1.225\n",
    "values[p.m] = 10\n",
    "values[p.S] = 1\n",
    "values[p.c_drag] = 0.2\n",
    "values[p.F_t] = 30\n",
    "values[p.g] = 9.81\n",
    "llm.subs(values)\n",
    "llm.show(show_all=True)"
   ]
  },
  {
   "cell_type": "code",
   "execution_count": 48,
   "id": "c9fb9fb5",
   "metadata": {},
   "outputs": [
    {
     "name": "stdout",
     "output_type": "stream",
     "text": [
      "[-0.49+0.j  0.  +0.j]\n",
      "[0.+0.j]\n"
     ]
    },
    {
     "data": {
      "image/png": "[encoded data removed]",
      "text/plain": [
       "<Figure size 640x480 with 1 Axes>"
      ]
     },
     "metadata": {},
     "output_type": "display_data"
    }
   ],
   "source": [
    "states = [p.v, p.h]\n",
    "inputs = [p.pitch, p.throttle]\n",
    "\n",
    "A = np.zeros((2,2))\n",
    "A[0][0] = llm.rht[1].coeff(states[0])\n",
    "A[1][1] = llm.rht[2].coeff(states[1])\n",
    "\n",
    "B = np.zeros((2,1))\n",
    "B[0][0] = llm.rht[1].coeff(inputs[0])\n",
    "B[1][0] = llm.rht[2].coeff(inputs[1])\n",
    "\n",
    "C = np.ones((1,2))\n",
    "D = np.zeros((1,1))\n",
    "\n",
    "aircraft = ct.ss(A, B, C, D)\n",
    "print(aircraft.poles())\n",
    "print(aircraft.zeros())\n",
    "response = ct.pole_zero_plot(aircraft)\n"
   ]
  }
 ],
 "metadata": {
  "kernelspec": {
   "display_name": "63-18-ardupilot-controller-analysis",
   "language": "python",
   "name": "python3"
  },
  "language_info": {
   "codemirror_mode": {
    "name": "ipython",
    "version": 3
   },
   "file_extension": ".py",
   "mimetype": "text/x-python",
   "name": "python",
   "nbconvert_exporter": "python",
   "pygments_lexer": "ipython3",
   "version": "3.12.9"
  }
 },
 "nbformat": 4,
 "nbformat_minor": 5
}
