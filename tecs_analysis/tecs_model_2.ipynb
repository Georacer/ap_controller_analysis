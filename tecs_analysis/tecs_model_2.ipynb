{
 "cells": [
  {
   "cell_type": "code",
   "execution_count": 68,
   "metadata": {},
   "outputs": [
    {
     "name": "stdout",
     "output_type": "stream",
     "text": [
      "The blackcellmagic extension is already loaded. To reload it, use:\n",
      "  %reload_ext blackcellmagic\n",
      "The autoreload extension is already loaded. To reload it, use:\n",
      "  %reload_ext autoreload\n"
     ]
    }
   ],
   "source": [
    "import sympy\n",
    "from sympy.plotting import plot\n",
    "import sympy as sp\n",
    "import penbegone as pbg\n",
    "from penbegone import common as bgcom\n",
    "from penbegone import plotting as bgplot\n",
    "from penbegone.common import printeq\n",
    "\n",
    "%matplotlib inline\n",
    "%load_ext blackcellmagic\n",
    "%load_ext autoreload\n",
    "%autoreload 2"
   ]
  },
  {
   "cell_type": "markdown",
   "metadata": {},
   "source": [
    "## System definition"
   ]
  },
  {
   "cell_type": "code",
   "execution_count": 69,
   "metadata": {},
   "outputs": [],
   "source": [
    "v = sp.symbols(\"v\", positive=True)\n",
    "g = sp.symbols(\"g\", positive=True)\n",
    "h = sp.symbols(\"h\", real=True)\n",
    "\n",
    "pitch, throttle, m = sp.symbols(\"theta delta_t m\")\n",
    "F_t, c_drag, S, rho = sp.symbols(\"F_t C_drag S rho\")\n",
    "theta_0 = sp.symbols(\"theta_0\")\n",
    "drag_ = 0.5*S*rho*v*v*c_drag\n",
    "f_v_dot_ = 1/m*(sp.sin(pitch)*g + F_t*throttle - drag_)\n",
    "f_h_dot_ = v*sp.sin(pitch-theta_0)  # Perhaps add effect of increasing lift as airspeed increases?"
   ]
  },
  {
   "cell_type": "code",
   "execution_count": 70,
   "metadata": {},
   "outputs": [],
   "source": [
    "num_values = dict()"
   ]
  },
  {
   "cell_type": "code",
   "execution_count": 71,
   "metadata": {},
   "outputs": [],
   "source": [
    "Sys = [f_v_dot_, f_h_dot_]\n",
    "states = [v, h]\n",
    "\n",
    "v_star, h_star = sp.symbols(\"v_star h_star\")\n",
    "states_tr = [v_star, h_star]"
   ]
  },
  {
   "cell_type": "markdown",
   "metadata": {},
   "source": [
    "## Controller"
   ]
  },
  {
   "cell_type": "code",
   "execution_count": 72,
   "metadata": {},
   "outputs": [],
   "source": [
    "h_dem, h_dem_dot, v_dem, v_dem_dot = sp.symbols(\"h_d h_d_dot v_d v_d_dot\")\n",
    "h_dot, v_c, v_dot = sp.symbols(\"hdot v_cruise vdot\")\n",
    "v_max, v_min, climb_max, sink_max, sink_min = sp.symbols(\"V_max V_min hdot_cmax hdot_smax hdot_smin\")\n",
    "thr_max, thr_min, thr_trim = sp.symbols(\"t_{max} t_{min} t_{trim}\")\n",
    "w, k_tc, k_pd, k_i, k_td = sp.symbols(\"w k_tc k_pd k_i k_td\", real=True)"
   ]
  },
  {
   "cell_type": "code",
   "execution_count": 73,
   "metadata": {},
   "outputs": [],
   "source": [
    "STEdot_max, STEdot_min, STEdot_neg_max = sp.symbols(\"Edot^*_max Edot^*_min Edot^*_nmax\")\n",
    "\n",
    "STEdot_max_ = g*climb_max\n",
    "STEdot_min_ = -g*sink_min\n",
    "STEdot_neg_max = -g*sink_max"
   ]
  },
  {
   "cell_type": "code",
   "execution_count": 74,
   "metadata": {},
   "outputs": [],
   "source": [
    "## _update_speed_demand\n",
    "\n",
    "# Perhaps the increase of _TAS_dem when at max sink plays a role?\n",
    "\n",
    "vel_rate_max_ = 0.5*STEdot_max_/v\n",
    "vel_rate_neg_cruise = 0.9*STEdot_min_/v_c\n",
    "vel_rate_neg_max = 0.9*STEdot_min_/v_max\n",
    "\n",
    "# I can add the LPF effect of TIME_CONST here, instead of pure differentiation.\n",
    "c_states = [v_dem]"
   ]
  },
  {
   "cell_type": "code",
   "execution_count": 75,
   "metadata": {},
   "outputs": [],
   "source": [
    "## _update_height_demand\n",
    "\n",
    "# Can add the LPF effect of HDEM_TCONST here, over h_dem.\n",
    "c_states.append(h_dem)"
   ]
  },
  {
   "cell_type": "code",
   "execution_count": 76,
   "metadata": {},
   "outputs": [],
   "source": [
    "## _update_energies\n",
    "\n",
    "SPE_dem_ = h_dem*g\n",
    "SKE_dem_ = 0.5*v_dem*v_dem\n",
    "SKE_est_ = 0.5*v*v\n",
    "SKE_dot_dem_= v*v_dem_dot # In the source vdot_dem_ is high-passed. How does this translate to the actual system?\n",
    "SKE_dot_ = v*v_dot # Same comment as above.\n",
    "SPE_est_ = h*g\n",
    "SPE_dot_ = h_dot*g"
   ]
  },
  {
   "cell_type": "code",
   "execution_count": 77,
   "metadata": {},
   "outputs": [],
   "source": [
    "## _update_pitch\n",
    "\n",
    "w_k_ = w\n",
    "w_p_ = 2-w\n",
    "\n",
    "SEB_dem_ = SPE_dem_*w_p_ - SKE_dem_*w_k_\n",
    "SEB_est_ = SPE_est_*w_p_ - SKE_est_*w_k_\n",
    "SEB_err_ = SEB_dem_ - SEB_est_\n",
    "SEB_dot_est_ = SPE_dot_*w_p_ - SKE_dot_*w_k_\n",
    "\n",
    "SEB_dot_dem_ = SEB_err_/k_tc + h_dem_dot*g*w_p_\n",
    "SEB_dot_err_ = SEB_dot_dem_ - SEB_dot_est_\n",
    "SEB_dot_dem_tot_ = SEB_dot_dem_ + SEB_dot_err_*k_pd\n",
    "\n",
    "# Adding integrator states.\n",
    "SEB_dot_int = sp.symbols(\"x_{intsebdot}\")\n",
    "c_states.append(SEB_dot_int)\n",
    "SEB_dot_int_dot_ = SEB_dot_err_*k_i\n",
    "\n",
    "KE_int = sp.symbols(\"x_{intKE}\")\n",
    "c_states.append(KE_int)\n",
    "KE_int_dot_ = (SKE_est_ - SKE_dem_)*w_k_/k_tc\n",
    "\n",
    "pitch_dem_ = (SEB_dot_dem_tot_ + SEB_dot_int + KE_int) / (v * g)"
   ]
  },
  {
   "cell_type": "code",
   "execution_count": 78,
   "metadata": {},
   "outputs": [],
   "source": [
    "## _update_throttle_with_airspeed\n",
    "\n",
    "STE_error_ = SKE_dem_ - SKE_est_ + SPE_dem_ - SPE_est_\n",
    "SPE_dot_dem_ = (SPE_dem_ - SPE_est_)/k_tc\n",
    "STE_dot_dem_ = SPE_dot_dem_ + SKE_dot_dem_\n",
    "STE_dot_err_ = STE_dot_dem_ - SKE_dot_ - SPE_dot_\n",
    "\n",
    "K_thr2STE_ = (STEdot_max_ - STEdot_min_)/(thr_max - thr_min)\n",
    "K_STE2Thr_ = 1 / (K_thr2STE_ * k_tc)\n",
    "# Adding integrator state.\n",
    "integTHR_state = sp.symbols(\"x_{intthr}\")\n",
    "c_states.append(integTHR_state)\n",
    "integTHR_state_dot_ = STE_error_*k_i*K_STE2Thr_\n",
    "ff_throttle = STE_dot_dem_/K_thr2STE_ + thr_trim\n",
    "\n",
    "throttle_dem_ = K_STE2Thr_*(STE_error_ + STE_dot_err_*k_td) + ff_throttle + integTHR_state"
   ]
  },
  {
   "cell_type": "code",
   "execution_count": 79,
   "metadata": {},
   "outputs": [
    {
     "data": {
      "text/latex": [
       "$\\displaystyle \\frac{g k_{tc}^{2} \\left(\\dot{h}_{cmax} + \\dot{h}_{smin}\\right) \\left(t_{trim} + x_{intthr}\\right) + k_{tc} \\left(t_{max} - t_{min}\\right) \\left(- g h + g h_{d} + k_{tc} v v_{d dot}\\right) - \\left(t_{max} - t_{min}\\right) \\left(k_{tc} \\left(g h - g h_{d} + 0.5 v^{2} - 0.5 v_{d}^{2}\\right) + k_{td} \\left(g h - g h_{d} + k_{tc} \\left(g \\dot{h} - v v_{d dot} + v \\dot{v}\\right)\\right)\\right)}{g k_{tc}^{2} \\left(\\dot{h}_{cmax} + \\dot{h}_{smin}\\right)}$"
      ],
      "text/plain": [
       "(g*k_tc**2*(hdot_cmax + hdot_smin)*(t_{trim} + x_{intthr}) + k_tc*(t_{max} - t_{min})*(-g*h + g*h_d + k_tc*v*v_d_dot) - (t_{max} - t_{min})*(k_tc*(g*h - g*h_d + 0.5*v**2 - 0.5*v_d**2) + k_td*(g*h - g*h_d + k_tc*(g*hdot - v*v_d_dot + v*vdot))))/(g*k_tc**2*(hdot_cmax + hdot_smin))"
      ]
     },
     "metadata": {},
     "output_type": "display_data"
    },
    {
     "data": {
      "text/latex": [
       "$\\displaystyle \\frac{g h \\left(w - 2\\right) - g h_{d} \\left(w - 2\\right) - k_{pd} \\left(g h \\left(2 - w\\right) - g h_{d} \\left(2 - w\\right) + k_{tc} \\left(g h_{d dot} \\left(w - 2\\right) - g \\dot{h} \\left(w - 2\\right) - v \\dot{v} w\\right) - 0.5 v^{2} w + 0.5 v_{d}^{2} w\\right) + k_{tc} \\left(- g h_{d dot} \\left(w - 2\\right) + x_{intKE} + x_{intsebdot}\\right) + 0.5 v^{2} w - 0.5 v_{d}^{2} w}{g k_{tc} v}$"
      ],
      "text/plain": [
       "(g*h*(w - 2) - g*h_d*(w - 2) - k_pd*(g*h*(2 - w) - g*h_d*(2 - w) + k_tc*(g*h_d_dot*(w - 2) - g*hdot*(w - 2) - v*vdot*w) - 0.5*v**2*w + 0.5*v_d**2*w) + k_tc*(-g*h_d_dot*(w - 2) + x_{intKE} + x_{intsebdot}) + 0.5*v**2*w - 0.5*v_d**2*w)/(g*k_tc*v)"
      ]
     },
     "metadata": {},
     "output_type": "display_data"
    }
   ],
   "source": [
    "C = {throttle: throttle_dem_, pitch: pitch_dem_}\n",
    "C_d = [v_dem_dot, h_dem_dot, SEB_dot_int_dot_, KE_int_dot_, integTHR_state_dot_]\n",
    "\n",
    "for c in C.values():\n",
    "    display(c.simplify())"
   ]
  },
  {
   "cell_type": "markdown",
   "metadata": {},
   "source": [
    "## Autonomous system"
   ]
  },
  {
   "cell_type": "code",
   "execution_count": 80,
   "metadata": {},
   "outputs": [],
   "source": [
    "num_values[thr_max] = 1\n",
    "num_values[thr_min] = 0\n",
    "Sys = [s.subs(num_values) for s in Sys]"
   ]
  },
  {
   "cell_type": "code",
   "execution_count": 81,
   "metadata": {},
   "outputs": [],
   "source": [
    "states_a = states + c_states\n",
    "Sys_a = Sys + C_d"
   ]
  },
  {
   "cell_type": "code",
   "execution_count": 82,
   "metadata": {},
   "outputs": [
    {
     "data": {
      "text/latex": [
       "$\\displaystyle v = \\frac{- 0.5 C_{drag} S \\rho v^{2} + F_{t} \\left(t_{trim} + x_{intthr} + \\frac{v v_{d dot} + \\frac{- g h + g h_{d}}{k_{tc}}}{g \\dot{h}_{cmax} + g \\dot{h}_{smin}} + \\frac{- g h + g h_{d} + k_{td} \\left(- g \\dot{h} + v v_{d dot} - v \\dot{v} + \\frac{- g h + g h_{d}}{k_{tc}}\\right) - 0.5 v^{2} + 0.5 v_{d}^{2}}{k_{tc} \\left(g \\dot{h}_{cmax} + g \\dot{h}_{smin}\\right)}\\right) + g \\sin{\\left(\\frac{g h_{d dot} \\left(2 - w\\right) + k_{pd} \\left(g h_{d dot} \\left(2 - w\\right) - g \\dot{h} \\left(2 - w\\right) + v \\dot{v} w + \\frac{- g h \\left(2 - w\\right) + g h_{d} \\left(2 - w\\right) + 0.5 v^{2} w - 0.5 v_{d}^{2} w}{k_{tc}}\\right) + x_{intKE} + x_{intsebdot} + \\frac{- g h \\left(2 - w\\right) + g h_{d} \\left(2 - w\\right) + 0.5 v^{2} w - 0.5 v_{d}^{2} w}{k_{tc}}}{g v} \\right)}}{m}$"
      ],
      "text/plain": [
       "Eq(v, (-0.5*C_drag*S*rho*v**2 + F_t*(t_{trim} + x_{intthr} + (v*v_d_dot + (-g*h + g*h_d)/k_tc)/(g*hdot_cmax + g*hdot_smin) + (-g*h + g*h_d + k_td*(-g*hdot + v*v_d_dot - v*vdot + (-g*h + g*h_d)/k_tc) - 0.5*v**2 + 0.5*v_d**2)/(k_tc*(g*hdot_cmax + g*hdot_smin))) + g*sin((g*h_d_dot*(2 - w) + k_pd*(g*h_d_dot*(2 - w) - g*hdot*(2 - w) + v*vdot*w + (-g*h*(2 - w) + g*h_d*(2 - w) + 0.5*v**2*w - 0.5*v_d**2*w)/k_tc) + x_{intKE} + x_{intsebdot} + (-g*h*(2 - w) + g*h_d*(2 - w) + 0.5*v**2*w - 0.5*v_d**2*w)/k_tc)/(g*v)))/m)"
      ]
     },
     "metadata": {},
     "output_type": "display_data"
    },
    {
     "data": {
      "text/latex": [
       "$\\displaystyle h = - v \\sin{\\left(\\theta_{0} - \\frac{g h_{d dot} \\left(2 - w\\right) + k_{pd} \\left(g h_{d dot} \\left(2 - w\\right) - g \\dot{h} \\left(2 - w\\right) + v \\dot{v} w + \\frac{- g h \\left(2 - w\\right) + g h_{d} \\left(2 - w\\right) + 0.5 v^{2} w - 0.5 v_{d}^{2} w}{k_{tc}}\\right) + x_{intKE} + x_{intsebdot} + \\frac{- g h \\left(2 - w\\right) + g h_{d} \\left(2 - w\\right) + 0.5 v^{2} w - 0.5 v_{d}^{2} w}{k_{tc}}}{g v} \\right)}$"
      ],
      "text/plain": [
       "Eq(h, -v*sin(theta_0 - (g*h_d_dot*(2 - w) + k_pd*(g*h_d_dot*(2 - w) - g*hdot*(2 - w) + v*vdot*w + (-g*h*(2 - w) + g*h_d*(2 - w) + 0.5*v**2*w - 0.5*v_d**2*w)/k_tc) + x_{intKE} + x_{intsebdot} + (-g*h*(2 - w) + g*h_d*(2 - w) + 0.5*v**2*w - 0.5*v_d**2*w)/k_tc)/(g*v)))"
      ]
     },
     "metadata": {},
     "output_type": "display_data"
    },
    {
     "data": {
      "text/latex": [
       "$\\displaystyle v_{d} = v_{d dot}$"
      ],
      "text/plain": [
       "Eq(v_d, v_d_dot)"
      ]
     },
     "metadata": {},
     "output_type": "display_data"
    },
    {
     "data": {
      "text/latex": [
       "$\\displaystyle h_{d} = h_{d dot}$"
      ],
      "text/plain": [
       "Eq(h_d, h_d_dot)"
      ]
     },
     "metadata": {},
     "output_type": "display_data"
    },
    {
     "data": {
      "text/latex": [
       "$\\displaystyle x_{intsebdot} = k_{i} \\left(g h_{d dot} \\left(2 - w\\right) - g \\dot{h} \\left(2 - w\\right) + v \\dot{v} w + \\frac{- g h \\left(2 - w\\right) + g h_{d} \\left(2 - w\\right) + 0.5 v^{2} w - 0.5 v_{d}^{2} w}{k_{tc}}\\right)$"
      ],
      "text/plain": [
       "Eq(x_{intsebdot}, k_i*(g*h_d_dot*(2 - w) - g*hdot*(2 - w) + v*vdot*w + (-g*h*(2 - w) + g*h_d*(2 - w) + 0.5*v**2*w - 0.5*v_d**2*w)/k_tc))"
      ]
     },
     "metadata": {},
     "output_type": "display_data"
    },
    {
     "data": {
      "text/latex": [
       "$\\displaystyle x_{intKE} = \\frac{w \\left(0.5 v^{2} - 0.5 v_{d}^{2}\\right)}{k_{tc}}$"
      ],
      "text/plain": [
       "Eq(x_{intKE}, w*(0.5*v**2 - 0.5*v_d**2)/k_tc)"
      ]
     },
     "metadata": {},
     "output_type": "display_data"
    },
    {
     "data": {
      "text/latex": [
       "$\\displaystyle x_{intthr} = \\frac{k_{i} \\left(- g h + g h_{d} - 0.5 v^{2} + 0.5 v_{d}^{2}\\right)}{k_{tc} \\left(g \\dot{h}_{cmax} + g \\dot{h}_{smin}\\right)}$"
      ],
      "text/plain": [
       "Eq(x_{intthr}, k_i*(-g*h + g*h_d - 0.5*v**2 + 0.5*v_d**2)/(k_tc*(g*hdot_cmax + g*hdot_smin)))"
      ]
     },
     "metadata": {},
     "output_type": "display_data"
    }
   ],
   "source": [
    "Sys_a = [s_i.subs(C | num_values) for s_i in Sys_a]\n",
    "for k, s in zip(states_a, Sys_a):\n",
    "    printeq(k, s)"
   ]
  },
  {
   "cell_type": "markdown",
   "metadata": {},
   "source": [
    "Trying to simplify this takes more than 3mins."
   ]
  },
  {
   "cell_type": "markdown",
   "metadata": {},
   "source": [
    "## Equilibrium points"
   ]
  },
  {
   "cell_type": "code",
   "execution_count": 83,
   "metadata": {},
   "outputs": [],
   "source": [
    "num_values[g] = 9.81\n",
    "num_values[rho] = 1.225\n",
    "\n",
    "num_values[v_dot] = 0\n",
    "num_values[h_dot] = 0\n",
    "num_values[h_dem_dot] = 0\n",
    "num_values[v_dem_dot] = 0\n",
    "# num_values[h] = h_dem\n",
    "\n",
    "var_rep = dict()\n",
    "x_ipitch = sp.symbols(\"x_{ipitch}\")\n",
    "var_rep[SEB_dot_int + KE_int] = x_ipitch\n",
    "Sys_a = [s.subs(var_rep) for s in Sys_a]\n",
    "del Sys_a[4]\n",
    "del Sys_a[4]\n",
    "Sys_a.append(SEB_dot_int_dot_ + KE_int_dot_)\n",
    "del states_a[4]\n",
    "del states_a[4]\n",
    "states_a.append(x_ipitch)\n",
    "states_tr = [h_star, v_star, sp.symbols(\"v_{d*}\"), sp.symbols(\"h_{d*}\"), sp.symbols(\"x_{intthr*}\"), sp.symbols(\"x_{ipitch*}\")]\n",
    "\n",
    "Sys_a = [s.subs(num_values) for s in Sys_a]"
   ]
  },
  {
   "cell_type": "code",
   "execution_count": 84,
   "metadata": {},
   "outputs": [
    {
     "data": {
      "text/latex": [
       "$\\displaystyle v = \\frac{- 0.6125 C_{drag} S v^{2} + F_{t} \\left(t_{trim} + x_{intthr} + \\frac{- 9.81 h + 9.81 h_{d}}{k_{tc} \\left(9.81 \\dot{h}_{cmax} + 9.81 \\dot{h}_{smin}\\right)} + \\frac{- 9.81 h + 9.81 h_{d} - 0.5 v^{2} + 0.5 v_{d}^{2} + \\frac{k_{td} \\left(- 9.81 h + 9.81 h_{d}\\right)}{k_{tc}}}{k_{tc} \\left(9.81 \\dot{h}_{cmax} + 9.81 \\dot{h}_{smin}\\right)}\\right) + 9.81 \\sin{\\left(\\frac{0.101936799184506 \\left(\\frac{k_{pd} \\left(- 9.81 h \\left(2 - w\\right) + 9.81 h_{d} \\left(2 - w\\right) + 0.5 v^{2} w - 0.5 v_{d}^{2} w\\right)}{k_{tc}} + x_{ipitch} + \\frac{- 9.81 h \\left(2 - w\\right) + 9.81 h_{d} \\left(2 - w\\right) + 0.5 v^{2} w - 0.5 v_{d}^{2} w}{k_{tc}}\\right)}{v} \\right)}}{m}$"
      ],
      "text/plain": [
       "Eq(v, (-0.6125*C_drag*S*v**2 + F_t*(t_{trim} + x_{intthr} + (-9.81*h + 9.81*h_d)/(k_tc*(9.81*hdot_cmax + 9.81*hdot_smin)) + (-9.81*h + 9.81*h_d - 0.5*v**2 + 0.5*v_d**2 + k_td*(-9.81*h + 9.81*h_d)/k_tc)/(k_tc*(9.81*hdot_cmax + 9.81*hdot_smin))) + 9.81*sin(0.101936799184506*(k_pd*(-9.81*h*(2 - w) + 9.81*h_d*(2 - w) + 0.5*v**2*w - 0.5*v_d**2*w)/k_tc + x_{ipitch} + (-9.81*h*(2 - w) + 9.81*h_d*(2 - w) + 0.5*v**2*w - 0.5*v_d**2*w)/k_tc)/v))/m)"
      ]
     },
     "metadata": {},
     "output_type": "display_data"
    },
    {
     "data": {
      "text/latex": [
       "$\\displaystyle h = - v \\sin{\\left(\\theta_{0} - \\frac{0.101936799184506 \\left(\\frac{k_{pd} \\left(- 9.81 h \\left(2 - w\\right) + 9.81 h_{d} \\left(2 - w\\right) + 0.5 v^{2} w - 0.5 v_{d}^{2} w\\right)}{k_{tc}} + x_{ipitch} + \\frac{- 9.81 h \\left(2 - w\\right) + 9.81 h_{d} \\left(2 - w\\right) + 0.5 v^{2} w - 0.5 v_{d}^{2} w}{k_{tc}}\\right)}{v} \\right)}$"
      ],
      "text/plain": [
       "Eq(h, -v*sin(theta_0 - 0.101936799184506*(k_pd*(-9.81*h*(2 - w) + 9.81*h_d*(2 - w) + 0.5*v**2*w - 0.5*v_d**2*w)/k_tc + x_{ipitch} + (-9.81*h*(2 - w) + 9.81*h_d*(2 - w) + 0.5*v**2*w - 0.5*v_d**2*w)/k_tc)/v))"
      ]
     },
     "metadata": {},
     "output_type": "display_data"
    },
    {
     "data": {
      "text/latex": [
       "$\\displaystyle v_{d} = 0$"
      ],
      "text/plain": [
       "Eq(v_d, 0)"
      ]
     },
     "metadata": {},
     "output_type": "display_data"
    },
    {
     "data": {
      "text/latex": [
       "$\\displaystyle h_{d} = 0$"
      ],
      "text/plain": [
       "Eq(h_d, 0)"
      ]
     },
     "metadata": {},
     "output_type": "display_data"
    },
    {
     "data": {
      "text/latex": [
       "$\\displaystyle x_{intthr} = \\frac{k_{i} \\left(- 9.81 h + 9.81 h_{d} - 0.5 v^{2} + 0.5 v_{d}^{2}\\right)}{k_{tc} \\left(9.81 \\dot{h}_{cmax} + 9.81 \\dot{h}_{smin}\\right)}$"
      ],
      "text/plain": [
       "Eq(x_{intthr}, k_i*(-9.81*h + 9.81*h_d - 0.5*v**2 + 0.5*v_d**2)/(k_tc*(9.81*hdot_cmax + 9.81*hdot_smin)))"
      ]
     },
     "metadata": {},
     "output_type": "display_data"
    },
    {
     "data": {
      "text/latex": [
       "$\\displaystyle x_{ipitch} = \\frac{k_{i} \\left(- 9.81 h \\left(2 - w\\right) + 9.81 h_{d} \\left(2 - w\\right) + 0.5 v^{2} w - 0.5 v_{d}^{2} w\\right)}{k_{tc}} + \\frac{w \\left(0.5 v^{2} - 0.5 v_{d}^{2}\\right)}{k_{tc}}$"
      ],
      "text/plain": [
       "Eq(x_{ipitch}, k_i*(-9.81*h*(2 - w) + 9.81*h_d*(2 - w) + 0.5*v**2*w - 0.5*v_d**2*w)/k_tc + w*(0.5*v**2 - 0.5*v_d**2)/k_tc)"
      ]
     },
     "metadata": {},
     "output_type": "display_data"
    }
   ],
   "source": [
    "for k, s in zip(states_a, Sys_a):\n",
    "    printeq(k, s)"
   ]
  },
  {
   "cell_type": "code",
   "execution_count": 85,
   "metadata": {},
   "outputs": [
    {
     "data": {
      "text/plain": [
       "[{h: h_d,\n",
       "  v: -v_d,\n",
       "  x_{intthr}: 0.0025*(245.0*C_drag*S*v_d**2 - 400.0*F_t*t_{trim} - 3924.0*sin(theta_0))/F_t,\n",
       "  x_{ipitch}: -9.81*theta_0*v_d},\n",
       " {h: h_d,\n",
       "  v: -v_d,\n",
       "  x_{intthr}: 0.0025*(245.0*C_drag*S*v_d**2 - 400.0*F_t*t_{trim} + 3924.0*sin(theta_0))/F_t,\n",
       "  x_{ipitch}: 9.81*v_d*(3.14159265358979 - theta_0)},\n",
       " {h: h_d,\n",
       "  v: v_d,\n",
       "  x_{intthr}: 0.0025*(245.0*C_drag*S*v_d**2 - 400.0*F_t*t_{trim} - 3924.0*sin(theta_0))/F_t,\n",
       "  x_{ipitch}: 9.81*theta_0*v_d},\n",
       " {h: h_d,\n",
       "  v: v_d,\n",
       "  x_{intthr}: 0.0025*(245.0*C_drag*S*v_d**2 - 400.0*F_t*t_{trim} + 3924.0*sin(theta_0))/F_t,\n",
       "  x_{ipitch}: 9.81*v_d*(theta_0 - 3.14159265358979)}]"
      ]
     },
     "execution_count": 85,
     "metadata": {},
     "output_type": "execute_result"
    }
   ],
   "source": [
    "# e_points = sp.solve(Sys_a, states_a, dict=True)\n",
    "Sys_am = [s for i, s in enumerate(Sys_a) if i in [0, 1, 4, 5] ]\n",
    "states_am = [s for i, s in enumerate(states_a) if i in [0, 1, 4, 5] ]\n",
    "e_points = sp.solve(Sys_am, states_am, dict=True)\n",
    "e_points"
   ]
  },
  {
   "cell_type": "code",
   "execution_count": 86,
   "metadata": {},
   "outputs": [
    {
     "data": {
      "text/plain": [
       "[(-0.6125*C_drag*S*v**2 + F_t*(t_{trim} + x_{intthr} + (-9.81*h + 9.81*h_d)/(k_tc*(9.81*hdot_cmax + 9.81*hdot_smin)) + (-9.81*h + 9.81*h_d - 0.5*v**2 + 0.5*v_d**2 + k_td*(-9.81*h + 9.81*h_d)/k_tc)/(k_tc*(9.81*hdot_cmax + 9.81*hdot_smin))) + 9.81*sin(0.101936799184506*(k_pd*(-9.81*h*(2 - w) + 9.81*h_d*(2 - w) + 0.5*v**2*w - 0.5*v_d**2*w)/k_tc + x_{ipitch} + (-9.81*h*(2 - w) + 9.81*h_d*(2 - w) + 0.5*v**2*w - 0.5*v_d**2*w)/k_tc)/v))/m,\n",
       " -v*sin(theta_0 - 0.101936799184506*(k_pd*(-9.81*h*(2 - w) + 9.81*h_d*(2 - w) + 0.5*v**2*w - 0.5*v_d**2*w)/k_tc + x_{ipitch} + (-9.81*h*(2 - w) + 9.81*h_d*(2 - w) + 0.5*v**2*w - 0.5*v_d**2*w)/k_tc)/v),\n",
       " k_i*(-9.81*h + 9.81*h_d - 0.5*v**2 + 0.5*v_d**2)/(k_tc*(9.81*hdot_cmax + 9.81*hdot_smin)),\n",
       " k_i*(-9.81*h*(2 - w) + 9.81*h_d*(2 - w) + 0.5*v**2*w - 0.5*v_d**2*w)/k_tc + w*(0.5*v**2 - 0.5*v_d**2)/k_tc]"
      ]
     },
     "metadata": {},
     "output_type": "display_data"
    },
    {
     "data": {
      "text/plain": [
       "[v, h, x_{intthr}, x_{ipitch}]"
      ]
     },
     "metadata": {},
     "output_type": "display_data"
    }
   ],
   "source": [
    "display(Sys_am)\n",
    "display(states_am)"
   ]
  },
  {
   "cell_type": "code",
   "execution_count": 87,
   "metadata": {},
   "outputs": [
    {
     "data": {
      "text/latex": [
       "$\\displaystyle h = h_{d}$"
      ],
      "text/plain": [
       "Eq(h, h_d)"
      ]
     },
     "metadata": {},
     "output_type": "display_data"
    },
    {
     "data": {
      "text/latex": [
       "$\\displaystyle v = v_{d}$"
      ],
      "text/plain": [
       "Eq(v, v_d)"
      ]
     },
     "metadata": {},
     "output_type": "display_data"
    },
    {
     "data": {
      "text/latex": [
       "$\\displaystyle x_{intthr} = \\frac{0.6125 C_{drag} S v_{d}^{2} - 1.0 F_{t} t_{trim} - 9.81 \\sin{\\left(\\theta_{0} \\right)}}{F_{t}}$"
      ],
      "text/plain": [
       "Eq(x_{intthr}, (0.6125*C_drag*S*v_d**2 - 1.0*F_t*t_{trim} - 9.81*sin(theta_0))/F_t)"
      ]
     },
     "metadata": {},
     "output_type": "display_data"
    },
    {
     "data": {
      "text/latex": [
       "$\\displaystyle x_{ipitch} = 9.81 \\theta_{0} v_{d}$"
      ],
      "text/plain": [
       "Eq(x_{ipitch}, 9.81*theta_0*v_d)"
      ]
     },
     "metadata": {},
     "output_type": "display_data"
    }
   ],
   "source": [
    "sol_idx = 2\n",
    "states_trim = {k: x.simplify() for k, x in e_points[sol_idx].items()}  # Ignoring the other solutions.\n",
    "for k, s in states_trim.items():\n",
    "    printeq(k, s)"
   ]
  },
  {
   "cell_type": "code",
   "execution_count": 89,
   "metadata": {},
   "outputs": [],
   "source": [
    "states_trim[v_dem] = v_dem\n",
    "states_trim[h_dem] = h_dem"
   ]
  },
  {
   "cell_type": "markdown",
   "metadata": {},
   "source": [
    "## Translated system"
   ]
  },
  {
   "cell_type": "code",
   "execution_count": 93,
   "metadata": {},
   "outputs": [
    {
     "data": {
      "text/latex": [
       "$\\displaystyle \\frac{- 0.6125 C_{drag} S \\left(h_{star} + v_{d} + v_{d*}\\right)^{2} + F_{t} \\left(t_{trim} + x_{intthr*} - \\frac{9.81 v_{star}}{k_{tc} \\left(9.81 \\dot{h}_{cmax} + 9.81 \\dot{h}_{smin}\\right)} + \\frac{- 9.81 v_{star} + 0.5 \\left(v_{d} + v_{d*}\\right)^{2} - 0.5 \\left(h_{star} + v_{d} + v_{d*}\\right)^{2} - \\frac{9.81 k_{td} v_{star}}{k_{tc}}}{k_{tc} \\left(9.81 \\dot{h}_{cmax} + 9.81 \\dot{h}_{smin}\\right)} + \\frac{0.6125 C_{drag} S v_{d}^{2} - 1.0 F_{t} t_{trim} - 9.81 \\sin{\\left(\\theta_{0} \\right)}}{F_{t}}\\right) + 9.81 \\sin{\\left(\\frac{0.101936799184506 \\left(\\frac{k_{pd} \\left(- 0.5 w \\left(v_{d} + v_{d*}\\right)^{2} + 0.5 w \\left(h_{star} + v_{d} + v_{d*}\\right)^{2} + 9.81 \\left(2 - w\\right) \\left(h_{d} + h_{d*}\\right) - 9.81 \\left(2 - w\\right) \\left(h_{d} + h_{d*} + v_{star}\\right)\\right)}{k_{tc}} + 9.81 \\theta_{0} v_{d} + x_{ipitch*} + \\frac{- 0.5 w \\left(v_{d} + v_{d*}\\right)^{2} + 0.5 w \\left(h_{star} + v_{d} + v_{d*}\\right)^{2} + 9.81 \\left(2 - w\\right) \\left(h_{d} + h_{d*}\\right) - 9.81 \\left(2 - w\\right) \\left(h_{d} + h_{d*} + v_{star}\\right)}{k_{tc}}\\right)}{h_{star} + v_{d} + v_{d*}} \\right)}}{m}$"
      ],
      "text/plain": [
       "(-0.6125*C_drag*S*(h_star + v_d + v_{d*})**2 + F_t*(t_{trim} + x_{intthr*} - 9.81*v_star/(k_tc*(9.81*hdot_cmax + 9.81*hdot_smin)) + (-9.81*v_star + 0.5*(v_d + v_{d*})**2 - 0.5*(h_star + v_d + v_{d*})**2 - 9.81*k_td*v_star/k_tc)/(k_tc*(9.81*hdot_cmax + 9.81*hdot_smin)) + (0.6125*C_drag*S*v_d**2 - 1.0*F_t*t_{trim} - 9.81*sin(theta_0))/F_t) + 9.81*sin(0.101936799184506*(k_pd*(-0.5*w*(v_d + v_{d*})**2 + 0.5*w*(h_star + v_d + v_{d*})**2 + 9.81*(2 - w)*(h_d + h_{d*}) - 9.81*(2 - w)*(h_d + h_{d*} + v_star))/k_tc + 9.81*theta_0*v_d + x_{ipitch*} + (-0.5*w*(v_d + v_{d*})**2 + 0.5*w*(h_star + v_d + v_{d*})**2 + 9.81*(2 - w)*(h_d + h_{d*}) - 9.81*(2 - w)*(h_d + h_{d*} + v_star))/k_tc)/(h_star + v_d + v_{d*})))/m"
      ]
     },
     "metadata": {},
     "output_type": "display_data"
    },
    {
     "data": {
      "text/latex": [
       "$\\displaystyle - \\left(h_{star} + v_{d} + v_{d*}\\right) \\sin{\\left(\\theta_{0} - \\frac{0.101936799184506 \\left(\\frac{k_{pd} \\left(- 0.5 w \\left(v_{d} + v_{d*}\\right)^{2} + 0.5 w \\left(h_{star} + v_{d} + v_{d*}\\right)^{2} + 9.81 \\left(2 - w\\right) \\left(h_{d} + h_{d*}\\right) - 9.81 \\left(2 - w\\right) \\left(h_{d} + h_{d*} + v_{star}\\right)\\right)}{k_{tc}} + 9.81 \\theta_{0} v_{d} + x_{ipitch*} + \\frac{- 0.5 w \\left(v_{d} + v_{d*}\\right)^{2} + 0.5 w \\left(h_{star} + v_{d} + v_{d*}\\right)^{2} + 9.81 \\left(2 - w\\right) \\left(h_{d} + h_{d*}\\right) - 9.81 \\left(2 - w\\right) \\left(h_{d} + h_{d*} + v_{star}\\right)}{k_{tc}}\\right)}{h_{star} + v_{d} + v_{d*}} \\right)}$"
      ],
      "text/plain": [
       "-(h_star + v_d + v_{d*})*sin(theta_0 - 0.101936799184506*(k_pd*(-0.5*w*(v_d + v_{d*})**2 + 0.5*w*(h_star + v_d + v_{d*})**2 + 9.81*(2 - w)*(h_d + h_{d*}) - 9.81*(2 - w)*(h_d + h_{d*} + v_star))/k_tc + 9.81*theta_0*v_d + x_{ipitch*} + (-0.5*w*(v_d + v_{d*})**2 + 0.5*w*(h_star + v_d + v_{d*})**2 + 9.81*(2 - w)*(h_d + h_{d*}) - 9.81*(2 - w)*(h_d + h_{d*} + v_star))/k_tc)/(h_star + v_d + v_{d*}))"
      ]
     },
     "metadata": {},
     "output_type": "display_data"
    },
    {
     "data": {
      "text/latex": [
       "$\\displaystyle 0$"
      ],
      "text/plain": [
       "0"
      ]
     },
     "metadata": {},
     "output_type": "display_data"
    },
    {
     "data": {
      "text/latex": [
       "$\\displaystyle 0$"
      ],
      "text/plain": [
       "0"
      ]
     },
     "metadata": {},
     "output_type": "display_data"
    },
    {
     "data": {
      "text/latex": [
       "$\\displaystyle \\frac{k_{i} \\left(- 9.81 v_{star} + 0.5 \\left(v_{d} + v_{d*}\\right)^{2} - 0.5 \\left(h_{star} + v_{d} + v_{d*}\\right)^{2}\\right)}{k_{tc} \\left(9.81 \\dot{h}_{cmax} + 9.81 \\dot{h}_{smin}\\right)}$"
      ],
      "text/plain": [
       "k_i*(-9.81*v_star + 0.5*(v_d + v_{d*})**2 - 0.5*(h_star + v_d + v_{d*})**2)/(k_tc*(9.81*hdot_cmax + 9.81*hdot_smin))"
      ]
     },
     "metadata": {},
     "output_type": "display_data"
    },
    {
     "data": {
      "text/latex": [
       "$\\displaystyle \\frac{k_{i} \\left(- 0.5 w \\left(v_{d} + v_{d*}\\right)^{2} + 0.5 w \\left(h_{star} + v_{d} + v_{d*}\\right)^{2} + 9.81 \\left(2 - w\\right) \\left(h_{d} + h_{d*}\\right) - 9.81 \\left(2 - w\\right) \\left(h_{d} + h_{d*} + v_{star}\\right)\\right)}{k_{tc}} + \\frac{w \\left(- 0.5 \\left(v_{d} + v_{d*}\\right)^{2} + 0.5 \\left(h_{star} + v_{d} + v_{d*}\\right)^{2}\\right)}{k_{tc}}$"
      ],
      "text/plain": [
       "k_i*(-0.5*w*(v_d + v_{d*})**2 + 0.5*w*(h_star + v_d + v_{d*})**2 + 9.81*(2 - w)*(h_d + h_{d*}) - 9.81*(2 - w)*(h_d + h_{d*} + v_star))/k_tc + w*(-0.5*(v_d + v_{d*})**2 + 0.5*(h_star + v_d + v_{d*})**2)/k_tc"
      ]
     },
     "metadata": {},
     "output_type": "display_data"
    }
   ],
   "source": [
    "trans_dict = dict()\n",
    "for i, st in enumerate(states_a):\n",
    "    trans_dict[states_a[i]] = states_tr[i] + states_trim[st]\n",
    "Sys_tr = [s_i.subs(trans_dict) for s_i in Sys_a]\n",
    "for s in Sys_tr:\n",
    "    display(s)"
   ]
  },
  {
   "cell_type": "markdown",
   "metadata": {},
   "source": [
    "## Linearization"
   ]
  },
  {
   "cell_type": "code",
   "execution_count": 94,
   "metadata": {},
   "outputs": [
    {
     "data": {
      "text/latex": [
       "$\\displaystyle \\left[\\begin{matrix}- \\frac{1.225 C_{drag} S k_{tc} v_{d}^{2} \\left(\\dot{h}_{cmax} + \\dot{h}_{smin}\\right) + 0.101936799184506 F_{t} v_{d}^{2} + 9.81 \\left(\\dot{h}_{cmax} + \\dot{h}_{smin}\\right) \\left(1.0 k_{tc} \\theta_{0} - 0.101936799184506 v_{d} w \\left(k_{pd} + 1\\right)\\right) \\cos{\\left(1.0 \\theta_{0} \\right)}}{k_{tc} m v_{d} \\left(\\dot{h}_{cmax} + \\dot{h}_{smin}\\right)} & \\frac{1.0 \\left(- F_{t} v_{d} \\left(2 k_{tc} + k_{td}\\right) + k_{tc} \\left(\\dot{h}_{cmax} + \\dot{h}_{smin}\\right) \\left(k_{pd} \\left(9.81 w - 19.62\\right) + 9.81 w - 19.62\\right) \\cos{\\left(1.0 \\theta_{0} \\right)}\\right)}{k_{tc}^{2} m v_{d} \\left(\\dot{h}_{cmax} + \\dot{h}_{smin}\\right)} & - \\frac{1.225 C_{drag} S v_{d}^{2} + 9.81 \\theta_{0} \\cos{\\left(1.0 \\theta_{0} \\right)}}{m v_{d}} & 0 & \\frac{F_{t}}{m} & \\frac{1.0 \\cos{\\left(1.0 \\theta_{0} \\right)}}{m v_{d}}\\\\\\frac{- 1.0 k_{tc} \\theta_{0} + 0.101936799184506 v_{d} w \\left(k_{pd} + 1\\right)}{k_{tc}} & \\frac{0.101936799184506 k_{pd} \\left(9.81 w - 19.62\\right) + 1.0 w - 2.0}{k_{tc}} & - 1.0 \\theta_{0} & 0 & 0 & 0.101936799184506\\\\0 & 0 & 0 & 0 & 0 & 0\\\\0 & 0 & 0 & 0 & 0 & 0\\\\- \\frac{0.101936799184506 k_{i} v_{d}}{k_{tc} \\left(\\dot{h}_{cmax} + \\dot{h}_{smin}\\right)} & - \\frac{1.0 k_{i}}{k_{tc} \\left(\\dot{h}_{cmax} + \\dot{h}_{smin}\\right)} & 0 & 0 & 0 & 0\\\\\\frac{1.0 v_{d} w \\left(k_{i} + 1\\right)}{k_{tc}} & \\frac{k_{i} \\left(9.81 w - 19.62\\right)}{k_{tc}} & 0 & 0 & 0 & 0\\end{matrix}\\right]$"
      ],
      "text/plain": [
       "Matrix([\n",
       "[-(1.225*C_drag*S*k_tc*v_d**2*(hdot_cmax + hdot_smin) + 0.101936799184506*F_t*v_d**2 + 9.81*(hdot_cmax + hdot_smin)*(1.0*k_tc*theta_0 - 0.101936799184506*v_d*w*(k_pd + 1))*cos(1.0*theta_0))/(k_tc*m*v_d*(hdot_cmax + hdot_smin)), 1.0*(-F_t*v_d*(2*k_tc + k_td) + k_tc*(hdot_cmax + hdot_smin)*(k_pd*(9.81*w - 19.62) + 9.81*w - 19.62)*cos(1.0*theta_0))/(k_tc**2*m*v_d*(hdot_cmax + hdot_smin)), -(1.225*C_drag*S*v_d**2 + 9.81*theta_0*cos(1.0*theta_0))/(m*v_d), 0, F_t/m, 1.0*cos(1.0*theta_0)/(m*v_d)],\n",
       "[                                                                                                                                                                    (-1.0*k_tc*theta_0 + 0.101936799184506*v_d*w*(k_pd + 1))/k_tc,                                                                                                    (0.101936799184506*k_pd*(9.81*w - 19.62) + 1.0*w - 2.0)/k_tc,                                                     -1.0*theta_0, 0,     0,            0.101936799184506],\n",
       "[                                                                                                                                                                                                                                0,                                                                                                                                                               0,                                                                0, 0,     0,                            0],\n",
       "[                                                                                                                                                                                                                                0,                                                                                                                                                               0,                                                                0, 0,     0,                            0],\n",
       "[                                                                                                                                                                        -0.101936799184506*k_i*v_d/(k_tc*(hdot_cmax + hdot_smin)),                                                                                                                         -1.0*k_i/(k_tc*(hdot_cmax + hdot_smin)),                                                                0, 0,     0,                            0],\n",
       "[                                                                                                                                                                                                         1.0*v_d*w*(k_i + 1)/k_tc,                                                                                                                                       k_i*(9.81*w - 19.62)/k_tc,                                                                0, 0,     0,                            0]])"
      ]
     },
     "metadata": {},
     "output_type": "display_data"
    }
   ],
   "source": [
    "A = sp.zeros(len(states_tr), len(states_tr))\n",
    "zero_state = {st: 0 for st in states_tr}\n",
    "for i, f in enumerate(Sys_tr):\n",
    "    for j, x in enumerate(states_tr):\n",
    "        A[i, j] = sp.diff(f, x).subs(zero_state).simplify()\n",
    "display(A)"
   ]
  },
  {
   "cell_type": "code",
   "execution_count": null,
   "metadata": {},
   "outputs": [],
   "source": [
    "A.eigenvals()"
   ]
  },
  {
   "cell_type": "code",
   "execution_count": 106,
   "metadata": {},
   "outputs": [
    {
     "data": {
      "text/latex": [
       "$\\displaystyle \\left[\\begin{matrix}- \\frac{0.00067 \\left(- 60.0 k_{pd} + 3.5 \\cdot 10^{2} k_{tc} + 1.4 \\cdot 10^{2}\\right)}{k_{tc}} & \\frac{0.00067 \\left(3.0 k_{tc} \\left(- 9.8 k_{pd} - 9.8\\right) - 2.0 \\cdot 10^{2} k_{tc} - 1.0 \\cdot 10^{2} k_{td}\\right)}{k_{tc}^{2}} & -0.24 & 0 & 0.2 & 0.002\\\\\\frac{2.0 k_{pd} - 0.017 k_{tc} + 2.0}{k_{tc}} & \\frac{- 1.0 k_{pd} - 1.0}{k_{tc}} & -0.017 & 0 & 0 & 0.1\\\\0 & 0 & 0 & 0 & 0 & 0\\\\0 & 0 & 0 & 0 & 0 & 0\\\\- \\frac{0.68 k_{i}}{k_{tc}} & - \\frac{0.33 k_{i}}{k_{tc}} & 0 & 0 & 0 & 0\\\\\\frac{20.0 \\left(k_{i} + 1.0\\right)}{k_{tc}} & - \\frac{9.8 k_{i}}{k_{tc}} & 0 & 0 & 0 & 0\\end{matrix}\\right]$"
      ],
      "text/plain": [
       "Matrix([\n",
       "[-0.00067*(-60.0*k_pd + 3.5e+2*k_tc + 1.4e+2)/k_tc, 0.00067*(3.0*k_tc*(-9.8*k_pd - 9.8) - 2.0e+2*k_tc - 1.0e+2*k_td)/k_tc**2,  -0.24, 0, 0.2, 0.002],\n",
       "[               (2.0*k_pd - 0.017*k_tc + 2.0)/k_tc,                                                   (-1.0*k_pd - 1.0)/k_tc, -0.017, 0,   0,   0.1],\n",
       "[                                                0,                                                                        0,      0, 0,   0,     0],\n",
       "[                                                0,                                                                        0,      0, 0,   0,     0],\n",
       "[                                   -0.68*k_i/k_tc,                                                           -0.33*k_i/k_tc,      0, 0,   0,     0],\n",
       "[                            20.0*(k_i + 1.0)/k_tc,                                                            -9.8*k_i/k_tc,      0, 0,   0,     0]])"
      ]
     },
     "metadata": {},
     "output_type": "display_data"
    },
    {
     "data": {
      "text/plain": [
       "[0, 20, 11.7257757358515 - 1.0*t_{trim}, 3.42260000000000, 20, 0]"
      ]
     },
     "metadata": {},
     "output_type": "display_data"
    },
    {
     "data": {
      "text/plain": [
       "[11.7257757358515 + 20*v_d_dot*(t_{max} - t_{min})/(3*g) + k_td*(t_{max} - t_{min})*(-g*hdot + 20*v_d_dot - 20*vdot)/(3*g*k_tc),\n",
       " (g*h_d_dot + k_pd*(g*h_d_dot - g*hdot + 20*vdot) + x_{intKE} + x_{intsebdot})/(20*g)]"
      ]
     },
     "metadata": {},
     "output_type": "display_data"
    }
   ],
   "source": [
    "values_dict = {\n",
    "    climb_max: 5,\n",
    "    sink_max: -10,\n",
    "    sink_min: -2,\n",
    "    w: 1,\n",
    "    m: 25,\n",
    "    v_dem: 20,\n",
    "    h_dem: 0,\n",
    "    F_t: 5,\n",
    "    theta_0: 1*3.14/180,\n",
    "    S: 0.8,\n",
    "    c_drag: 0.3\n",
    "}\n",
    "A_num_ = A.subs(values_dict)\n",
    "display(A_num_.n(2))\n",
    "states_trim_ = [s.subs(values_dict) for s in states_trim.values()]\n",
    "display(states_trim_)\n",
    "C_ = [c for c in C.values()]\n",
    "C_ = [c.subs(states_trim) for c in C_]\n",
    "C_ = [c.subs(values_dict) for c in C_]\n",
    "display(C_)"
   ]
  },
  {
   "cell_type": "markdown",
   "metadata": {},
   "source": [
    "## Phase portrait"
   ]
  },
  {
   "cell_type": "code",
   "execution_count": 128,
   "metadata": {},
   "outputs": [
    {
     "name": "stdout",
     "output_type": "stream",
     "text": [
      "{hdot_cmax: 5, hdot_smax: -10, hdot_smin: -2, w: 1, m: 25, v_d: 20, h_d: 0, F_t: 5, theta_0: 0.017444444444444446, S: 0.8, C_drag: 0.3, x_{ipitch}: 9.81*theta_0*v_d, x_{intthr}: (0.6125*C_drag*S*v_d**2 - 1.0*F_t*t_{trim} - 9.81*sin(theta_0))/F_t}\n"
     ]
    },
    {
     "data": {
      "text/latex": [
       "$\\displaystyle - 0.04 h - 0.0066 v^{2} + 0.39 \\sin{\\left(\\frac{0.101936799184506 \\left(- 2.5506 h + 0.13 v^{2} - 48.5774\\right)}{v} \\right)} + 2.6$"
      ],
      "text/plain": [
       "-0.04*h - 0.0066*v**2 + 0.39*sin(0.101936799184506*(-2.5506*h + 0.13*v**2 - 48.5774)/v) + 2.6"
      ]
     },
     "metadata": {},
     "output_type": "display_data"
    },
    {
     "data": {
      "text/latex": [
       "$\\displaystyle - v \\sin{\\left(0.0174444444444444 - \\frac{0.101936799184506 \\left(- 2.5506 h + 0.13 v^{2} - 48.5774\\right)}{v} \\right)}$"
      ],
      "text/plain": [
       "-v*sin(0.0174444444444444 - 0.101936799184506*(-2.5506*h + 0.13*v**2 - 48.5774)/v)"
      ]
     },
     "metadata": {},
     "output_type": "display_data"
    },
    {
     "data": {
      "text/latex": [
       "$\\displaystyle 0$"
      ],
      "text/plain": [
       "0"
      ]
     },
     "metadata": {},
     "output_type": "display_data"
    },
    {
     "data": {
      "text/latex": [
       "$\\displaystyle 0$"
      ],
      "text/plain": [
       "0"
      ]
     },
     "metadata": {},
     "output_type": "display_data"
    },
    {
     "data": {
      "text/latex": [
       "$\\displaystyle - 0.02 h - 0.001 v^{2} + 0.41$"
      ],
      "text/plain": [
       "-0.02*h - 0.001*v**2 + 0.41"
      ]
     },
     "metadata": {},
     "output_type": "display_data"
    },
    {
     "data": {
      "text/latex": [
       "$\\displaystyle - 0.59 h + 0.13 v^{2} - 52.0$"
      ],
      "text/plain": [
       "-0.59*h + 0.13*v**2 - 52.0"
      ]
     },
     "metadata": {},
     "output_type": "display_data"
    }
   ],
   "source": [
    "from sympy.utilities.autowrap import ufuncify\n",
    "import numpy as np\n",
    "import matplotlib.pyplot as plt\n",
    "\n",
    "fixed_states = {\n",
    "    x_ipitch : states_trim[x_ipitch],\n",
    "    integTHR_state : states_trim[integTHR_state]\n",
    "}\n",
    "controller_gains = {\n",
    "    k_pd: 0.3,\n",
    "    k_i: 0.3,\n",
    "    k_tc: 5,\n",
    "    k_td: 5,\n",
    "}\n",
    "print(values_dict | fixed_states)\n",
    "Sys_2d = list()\n",
    "# for s in Sys_a:\n",
    "#     Sys_2d.append(s.subs(values_dict | fixed_states))\n",
    "Sys_2d = [s.subs(values_dict | fixed_states | controller_gains) for s in Sys_a]\n",
    "Sys_2d = [s.subs(values_dict | fixed_states | controller_gains) for s in Sys_2d]\n",
    "for s in Sys_2d:\n",
    "    display(s.n(2))"
   ]
  },
  {
   "cell_type": "code",
   "execution_count": 129,
   "metadata": {},
   "outputs": [
    {
     "data": {
      "text/plain": [
       "<matplotlib.quiver.Quiver at 0x7ddcddf37b00>"
      ]
     },
     "execution_count": 129,
     "metadata": {},
     "output_type": "execute_result"
    },
    {
     "data": {
      "image/png": "[encoded data removed]",
      "text/plain": [
       "<Figure size 640x480 with 1 Axes>"
      ]
     },
     "metadata": {},
     "output_type": "display_data"
    }
   ],
   "source": [
    "X, Y = np.meshgrid(np.arange(10,30,1), np.arange(-10,10,1))\n",
    "uxy = ufuncify((v, h), Sys_2d[0])\n",
    "vxy = ufuncify((v, h), Sys_2d[1])\n",
    "plt.figure()\n",
    "plt.quiver(X, Y, uxy(X, Y), vxy(X, Y))"
   ]
  }
 ],
 "metadata": {
  "kernelspec": {
   "display_name": "63-18-ardupilot-controller-analysis-w0ECA3WZ-py3.12",
   "language": "python",
   "name": "python3"
  },
  "language_info": {
   "codemirror_mode": {
    "name": "ipython",
    "version": 3
   },
   "file_extension": ".py",
   "mimetype": "text/x-python",
   "name": "python",
   "nbconvert_exporter": "python",
   "pygments_lexer": "ipython3",
   "version": "3.12.1"
  }
 },
 "nbformat": 4,
 "nbformat_minor": 2
}
