{
 "cells": [
  {
   "cell_type": "code",
   "execution_count": 2,
   "metadata": {},
   "outputs": [],
   "source": [
    "import sympy\n",
    "from sympy.plotting import plot\n",
    "import sympy as sp\n",
    "import penbegone as pbg\n",
    "from penbegone import common as bgcom\n",
    "from penbegone import plotting as bgplot\n",
    "from penbegone.common import printeq\n",
    "\n",
    "%matplotlib inline\n",
    "%load_ext blackcellmagic\n",
    "%load_ext autoreload\n",
    "%autoreload 2"
   ]
  },
  {
   "cell_type": "markdown",
   "metadata": {},
   "source": [
    "# ArduPilot TECS mathematical model\n",
    "\n",
    "This is just a simplification.\n",
    "\n",
    "Nomenclature:\n",
    "- $h$: Height, $m$\n",
    "- $\\dot{h}$: Climb rate, $m/s$\n",
    "- $V$: Airspeed, $m/s$\n",
    "- $V_d$: Demanded airspeed, $m/s$\n",
    "- $\\dot{V}$: Airspeed derivative, $m/s^2$\n",
    "\n",
    "Parameters:\n",
    "- $V_{max}$: Maximum airspeed, $m/s$\n",
    "- $V_{min}$: Minimum airspeed, $m/s$\n",
    "- $\\dot{h}_{c,max}$: Maximum climb rate, $m/s$\n",
    "- $\\dot{h}_{s,max}$: Maximum sink rate, $m/s$\n",
    "- $\\dot{h}_{s,min}$: Minimum sink rate, $m/s$\n",
    "\n",
    "Constants:\n",
    "- $g$: Acceleration of gravity, $m/s^2$"
   ]
  },
  {
   "cell_type": "code",
   "execution_count": 3,
   "metadata": {},
   "outputs": [],
   "source": [
    "t = sp.symbols(\"t\", real=True)\n",
    "h, h_dem, v, v_dem = bgcom.functions(\"h h_d v v_dem\", t)\n",
    "h_dot, v_c, v_dot = sp.symbols(\"hdot v_cruise vdot\")\n",
    "v_max, v_min, climb_max, sink_max, sink_min = sp.symbols(\"V_max V_min hdot_cmax hdot_smax hdot_smin\")\n",
    "thr_max, thr_min, thr_trim = sp.symbols(\"t_{max} t_{min} t_{trim}\")\n",
    "w, k_tc, k_pd, k_i, k_td = sp.symbols(\"w k_tc k_pd k_i k_td\", real=True)\n",
    "g = sp.symbols(\"g\", real=True)\n",
    "\n",
    "h_dot_ = sp.diff(h, t) \n",
    "v_dot_ = sp.diff(v, t)"
   ]
  },
  {
   "cell_type": "code",
   "execution_count": 4,
   "metadata": {},
   "outputs": [],
   "source": [
    "STEdot_max, STEdot_min, STEdot_neg_max = sp.symbols(\"Edot^*_max Edot^*_min Edot^*_nmax\")\n",
    "\n",
    "STEdot_max_ = g*climb_max\n",
    "STEdot_min_ = -g*sink_min\n",
    "STEdot_neg_max = -g*sink_max"
   ]
  },
  {
   "cell_type": "code",
   "execution_count": 5,
   "metadata": {},
   "outputs": [],
   "source": [
    "## _update_speed_demand\n",
    "\n",
    "# Perhaps the increase of _TAS_dem when at max sink plays a role?\n",
    "\n",
    "vel_rate_max_ = 0.5*STEdot_max_/v\n",
    "vel_rate_neg_cruise = 0.9*STEdot_min_/v_c\n",
    "vel_rate_neg_max = 0.9*STEdot_min_/v_max\n",
    "\n",
    "# I can add the LPF effect of TIME_CONST here, instead of pure differentiation.\n",
    "vdot_dem_ = sp.diff(v_dem, t)"
   ]
  },
  {
   "cell_type": "code",
   "execution_count": 6,
   "metadata": {},
   "outputs": [],
   "source": [
    "## _update_height_demand\n",
    "\n",
    "# Can add the LPF effect of HDEM_TCONST here, over h_dem.\n",
    "h_dot_dem_ = sp.diff(h_dem)\n"
   ]
  },
  {
   "cell_type": "code",
   "execution_count": 7,
   "metadata": {},
   "outputs": [],
   "source": [
    "## _update_energies\n",
    "\n",
    "SPE_dem_ = h_dem*g\n",
    "SKE_dem_ = 0.5*v_dem*v_dem\n",
    "SKE_est_ = 0.5*v*v\n",
    "SKE_dot_dem_= v*vdot_dem_ # In the source vdot_dem_ is high-passed. How does this translate to the actual system?\n",
    "SKE_dot_ = v*v_dot # Same comment as above.\n",
    "SPE_est_ = h*g\n",
    "SPE_dot_ = h_dot*g"
   ]
  },
  {
   "cell_type": "code",
   "execution_count": 8,
   "metadata": {},
   "outputs": [],
   "source": [
    "## _update_pitch\n",
    "\n",
    "w_k_ = w\n",
    "w_p_ = 2-w\n",
    "\n",
    "SEB_dem_ = SPE_dem_*w_p_ - SKE_dem_*w_k_\n",
    "SEB_est_ = SPE_est_*w_p_ - SKE_est_*w_k_\n",
    "SEB_err_ = SEB_dem_ - SEB_est_\n",
    "SEB_dot_est_ = SPE_dot_*w_p_ - SKE_dot_*w_k_\n",
    "\n",
    "SEB_dot_dem_ = SEB_err_/k_tc + h_dot_dem_*g*w_p_\n",
    "SEB_dot_err_ = SEB_dot_dem_ - SEB_dot_est_\n",
    "SEB_dot_dem_tot_ = SEB_dot_dem_ + SEB_dot_err_*k_pd\n",
    "\n",
    "SEB_dot_int_ = k_i*sp.integrate(SEB_dot_err_, t)\n",
    "KE_int_ = sp.integrate((SKE_est_ - SKE_dem_)*w_k_/k_tc,t)\n",
    "\n",
    "pitch_dem_ = (SEB_dot_dem_tot_ + SEB_dot_int_ + KE_int_) / (v * g)"
   ]
  },
  {
   "cell_type": "code",
   "execution_count": 9,
   "metadata": {},
   "outputs": [],
   "source": [
    "## _update_throttle_with_airspeed\n",
    "\n",
    "STE_error_ = SKE_dem_ - SKE_est_ + SPE_dem_ - SPE_est_\n",
    "SPE_dot_dem_ = (SPE_dem_ - SPE_est_)/k_tc\n",
    "STE_dot_dem_ = SPE_dot_dem_ + SKE_dot_dem_\n",
    "STE_dot_err_ = STE_dot_dem_ - SKE_dot_ - SPE_dot_\n",
    "\n",
    "K_thr2STE_ = (STEdot_max_ - STEdot_min_)/(thr_max - thr_min)\n",
    "K_STE2Thr_ = 1 / (K_thr2STE_ * k_tc)\n",
    "integTHR_state_ = sp.integrate(STE_error_*k_i*K_STE2Thr_,t)\n",
    "ff_throttle = STE_dot_dem_/K_thr2STE_ + thr_trim\n",
    "\n",
    "throttle_dem_ = K_STE2Thr_*(STE_error_ + STE_dot_err_*k_td) + ff_throttle + integTHR_state_"
   ]
  },
  {
   "cell_type": "code",
   "execution_count": 32,
   "metadata": {},
   "outputs": [
    {
     "data": {
      "text/latex": [
       "$\\displaystyle \\frac{g k_{tc}^{2} t_{trim} \\left(\\dot{h}_{cmax} + \\dot{h}_{smin}\\right) - 1.0 k_{i} k_{tc} \\left(t_{max} - t_{min}\\right) \\left(1.0 g \\int h{\\left(t \\right)}\\, dt - 1.0 g \\int h_{d}{\\left(t \\right)}\\, dt + 0.5 \\int v^{2}{\\left(t \\right)}\\, dt - 0.5 \\int v_{dem}^{2}{\\left(t \\right)}\\, dt\\right) + k_{tc} \\left(t_{max} - t_{min}\\right) \\left(- g h{\\left(t \\right)} + g h_{d}{\\left(t \\right)} + k_{tc} v{\\left(t \\right)} \\frac{d}{d t} v_{dem}{\\left(t \\right)}\\right) - \\left(t_{max} - t_{min}\\right) \\left(k_{tc} \\left(g h{\\left(t \\right)} - g h_{d}{\\left(t \\right)} + 0.5 v^{2}{\\left(t \\right)} - 0.5 v_{dem}^{2}{\\left(t \\right)}\\right) + k_{td} \\left(g h{\\left(t \\right)} - g h_{d}{\\left(t \\right)} + k_{tc} \\left(g \\dot{h} + \\dot{v} v{\\left(t \\right)} - v{\\left(t \\right)} \\frac{d}{d t} v_{dem}{\\left(t \\right)}\\right)\\right)\\right)}{g k_{tc}^{2} \\left(\\dot{h}_{cmax} + \\dot{h}_{smin}\\right)}$"
      ],
      "text/plain": [
       "(g*k_tc**2*t_{trim}*(hdot_cmax + hdot_smin) - 1.0*k_i*k_tc*(t_{max} - t_{min})*(1.0*g*Integral(h(t), t) - 1.0*g*Integral(h_d(t), t) + 0.5*Integral(v(t)**2, t) - 0.5*Integral(v_dem(t)**2, t)) + k_tc*(t_{max} - t_{min})*(-g*h(t) + g*h_d(t) + k_tc*v(t)*Derivative(v_dem(t), t)) - (t_{max} - t_{min})*(k_tc*(g*h(t) - g*h_d(t) + 0.5*v(t)**2 - 0.5*v_dem(t)**2) + k_td*(g*h(t) - g*h_d(t) + k_tc*(g*hdot + vdot*v(t) - v(t)*Derivative(v_dem(t), t)))))/(g*k_tc**2*(hdot_cmax + hdot_smin))"
      ]
     },
     "execution_count": 32,
     "metadata": {},
     "output_type": "execute_result"
    }
   ],
   "source": [
    "throttle_dem_.simplify()"
   ]
  },
  {
   "cell_type": "markdown",
   "metadata": {},
   "source": [
    "## Kinematic model"
   ]
  },
  {
   "cell_type": "code",
   "execution_count": 11,
   "metadata": {},
   "outputs": [],
   "source": [
    "pitch, throttle, m = sp.symbols(\"theta delta_t m\")\n",
    "F_t, c_drag, S, rho = sp.symbols(\"F_t C_drag S rho\")\n",
    "drag_ = 0.5*S*rho*v*v*c_drag\n",
    "f_v_dot_ = 1/m*(sp.sin(pitch)*g + F_t*throttle - drag_)\n",
    "f_h_dot_ = v*sp.sin(pitch)  # Perhaps add effect of increasing lift as airspeed increases?"
   ]
  },
  {
   "cell_type": "markdown",
   "metadata": {},
   "source": [
    "## System definition"
   ]
  },
  {
   "cell_type": "code",
   "execution_count": 12,
   "metadata": {},
   "outputs": [],
   "source": [
    "fcl_1 = f_v_dot_.subs({pitch: pitch_dem_, throttle: throttle_dem_})\n",
    "fcl_2 = f_h_dot_.subs({pitch: pitch_dem_})"
   ]
  },
  {
   "cell_type": "code",
   "execution_count": 13,
   "metadata": {},
   "outputs": [
    {
     "data": {
      "text/latex": [
       "$\\displaystyle \\frac{F_{t} \\left(g k_{tc}^{2} t_{trim} \\left(\\dot{h}_{cmax} + \\dot{h}_{smin}\\right) - 1.0 k_{i} k_{tc} \\left(t_{max} - t_{min}\\right) \\left(1.0 g \\int h{\\left(t \\right)}\\, dt - 1.0 g \\int h_{d}{\\left(t \\right)}\\, dt + 0.5 \\int v^{2}{\\left(t \\right)}\\, dt - 0.5 \\int v_{dem}^{2}{\\left(t \\right)}\\, dt\\right) + k_{tc} \\left(t_{max} - t_{min}\\right) \\left(- g h{\\left(t \\right)} + g h_{d}{\\left(t \\right)} + k_{tc} v{\\left(t \\right)} \\frac{d}{d t} v_{dem}{\\left(t \\right)}\\right) - \\left(t_{max} - t_{min}\\right) \\left(k_{tc} \\left(g h{\\left(t \\right)} - g h_{d}{\\left(t \\right)} + 0.5 v^{2}{\\left(t \\right)} - 0.5 v_{dem}^{2}{\\left(t \\right)}\\right) + k_{td} \\left(g h{\\left(t \\right)} - g h_{d}{\\left(t \\right)} + k_{tc} \\left(g \\dot{h} + \\dot{v} v{\\left(t \\right)} - v{\\left(t \\right)} \\frac{d}{d t} v_{dem}{\\left(t \\right)}\\right)\\right)\\right)\\right) - g k_{tc}^{2} \\left(\\dot{h}_{cmax} + \\dot{h}_{smin}\\right) \\left(0.5 C_{drag} S \\rho v^{2}{\\left(t \\right)} + g \\sin{\\left(\\frac{g k_{tc} \\left(w - 2\\right) \\frac{d}{d t} h_{d}{\\left(t \\right)} - g \\left(w - 2\\right) h{\\left(t \\right)} + g \\left(w - 2\\right) h_{d}{\\left(t \\right)} + 2.0 k_{i} \\left(- 0.5 g \\dot{h} k_{tc} t w + 1.0 g \\dot{h} k_{tc} t + 0.5 g k_{tc} w h_{d}{\\left(t \\right)} - 1.0 g k_{tc} h_{d}{\\left(t \\right)} - 0.5 g w \\int h{\\left(t \\right)}\\, dt + 0.5 g w \\int h_{d}{\\left(t \\right)}\\, dt + 1.0 g \\int h{\\left(t \\right)}\\, dt - 1.0 g \\int h_{d}{\\left(t \\right)}\\, dt - 0.5 k_{tc} \\dot{v} w \\int v{\\left(t \\right)}\\, dt - 0.25 w \\int v^{2}{\\left(t \\right)}\\, dt + 0.25 w \\int v_{dem}^{2}{\\left(t \\right)}\\, dt\\right) - k_{pd} \\left(g \\left(w - 2\\right) h{\\left(t \\right)} - g \\left(w - 2\\right) h_{d}{\\left(t \\right)} + k_{tc} \\left(g \\dot{h} \\left(w - 2\\right) - g \\left(w - 2\\right) \\frac{d}{d t} h_{d}{\\left(t \\right)} + \\dot{v} w v{\\left(t \\right)}\\right) + 0.5 w v^{2}{\\left(t \\right)} - 0.5 w v_{dem}^{2}{\\left(t \\right)}\\right) - 0.5 w \\left(\\int v^{2}{\\left(t \\right)}\\, dt - \\int v_{dem}^{2}{\\left(t \\right)}\\, dt\\right) - 0.5 w v^{2}{\\left(t \\right)} + 0.5 w v_{dem}^{2}{\\left(t \\right)}}{g k_{tc} v{\\left(t \\right)}} \\right)}\\right)}{g k_{tc}^{2} m \\left(\\dot{h}_{cmax} + \\dot{h}_{smin}\\right)}$"
      ],
      "text/plain": [
       "(F_t*(g*k_tc**2*t_{trim}*(hdot_cmax + hdot_smin) - 1.0*k_i*k_tc*(t_{max} - t_{min})*(1.0*g*Integral(h(t), t) - 1.0*g*Integral(h_d(t), t) + 0.5*Integral(v(t)**2, t) - 0.5*Integral(v_dem(t)**2, t)) + k_tc*(t_{max} - t_{min})*(-g*h(t) + g*h_d(t) + k_tc*v(t)*Derivative(v_dem(t), t)) - (t_{max} - t_{min})*(k_tc*(g*h(t) - g*h_d(t) + 0.5*v(t)**2 - 0.5*v_dem(t)**2) + k_td*(g*h(t) - g*h_d(t) + k_tc*(g*hdot + vdot*v(t) - v(t)*Derivative(v_dem(t), t))))) - g*k_tc**2*(hdot_cmax + hdot_smin)*(0.5*C_drag*S*rho*v(t)**2 + g*sin((g*k_tc*(w - 2)*Derivative(h_d(t), t) - g*(w - 2)*h(t) + g*(w - 2)*h_d(t) + 2.0*k_i*(-0.5*g*hdot*k_tc*t*w + 1.0*g*hdot*k_tc*t + 0.5*g*k_tc*w*h_d(t) - 1.0*g*k_tc*h_d(t) - 0.5*g*w*Integral(h(t), t) + 0.5*g*w*Integral(h_d(t), t) + 1.0*g*Integral(h(t), t) - 1.0*g*Integral(h_d(t), t) - 0.5*k_tc*vdot*w*Integral(v(t), t) - 0.25*w*Integral(v(t)**2, t) + 0.25*w*Integral(v_dem(t)**2, t)) - k_pd*(g*(w - 2)*h(t) - g*(w - 2)*h_d(t) + k_tc*(g*hdot*(w - 2) - g*(w - 2)*Derivative(h_d(t), t) + vdot*w*v(t)) + 0.5*w*v(t)**2 - 0.5*w*v_dem(t)**2) - 0.5*w*(Integral(v(t)**2, t) - Integral(v_dem(t)**2, t)) - 0.5*w*v(t)**2 + 0.5*w*v_dem(t)**2)/(g*k_tc*v(t)))))/(g*k_tc**2*m*(hdot_cmax + hdot_smin))"
      ]
     },
     "execution_count": 13,
     "metadata": {},
     "output_type": "execute_result"
    }
   ],
   "source": [
    "fcl_1.simplify()"
   ]
  },
  {
   "cell_type": "code",
   "execution_count": 14,
   "metadata": {},
   "outputs": [
    {
     "data": {
      "text/latex": [
       "$\\displaystyle v{\\left(t \\right)} \\sin{\\left(\\frac{- g k_{tc} \\left(w - 2\\right) \\frac{d}{d t} h_{d}{\\left(t \\right)} + g \\left(w - 2\\right) h{\\left(t \\right)} - g \\left(w - 2\\right) h_{d}{\\left(t \\right)} + 2.0 k_{i} \\left(0.5 g \\dot{h} k_{tc} t w - 1.0 g \\dot{h} k_{tc} t - 0.5 g k_{tc} w h_{d}{\\left(t \\right)} + 1.0 g k_{tc} h_{d}{\\left(t \\right)} + 0.5 g w \\int h{\\left(t \\right)}\\, dt - 0.5 g w \\int h_{d}{\\left(t \\right)}\\, dt - 1.0 g \\int h{\\left(t \\right)}\\, dt + 1.0 g \\int h_{d}{\\left(t \\right)}\\, dt + 0.5 k_{tc} \\dot{v} w \\int v{\\left(t \\right)}\\, dt + 0.25 w \\int v^{2}{\\left(t \\right)}\\, dt - 0.25 w \\int v_{dem}^{2}{\\left(t \\right)}\\, dt\\right) + k_{pd} \\left(g \\left(w - 2\\right) h{\\left(t \\right)} - g \\left(w - 2\\right) h_{d}{\\left(t \\right)} + k_{tc} \\left(g \\dot{h} \\left(w - 2\\right) - g \\left(w - 2\\right) \\frac{d}{d t} h_{d}{\\left(t \\right)} + \\dot{v} w v{\\left(t \\right)}\\right) + 0.5 w v^{2}{\\left(t \\right)} - 0.5 w v_{dem}^{2}{\\left(t \\right)}\\right) + 0.5 w \\left(\\int v^{2}{\\left(t \\right)}\\, dt - \\int v_{dem}^{2}{\\left(t \\right)}\\, dt\\right) + 0.5 w v^{2}{\\left(t \\right)} - 0.5 w v_{dem}^{2}{\\left(t \\right)}}{g k_{tc} v{\\left(t \\right)}} \\right)}$"
      ],
      "text/plain": [
       "v(t)*sin((-g*k_tc*(w - 2)*Derivative(h_d(t), t) + g*(w - 2)*h(t) - g*(w - 2)*h_d(t) + 2.0*k_i*(0.5*g*hdot*k_tc*t*w - 1.0*g*hdot*k_tc*t - 0.5*g*k_tc*w*h_d(t) + 1.0*g*k_tc*h_d(t) + 0.5*g*w*Integral(h(t), t) - 0.5*g*w*Integral(h_d(t), t) - 1.0*g*Integral(h(t), t) + 1.0*g*Integral(h_d(t), t) + 0.5*k_tc*vdot*w*Integral(v(t), t) + 0.25*w*Integral(v(t)**2, t) - 0.25*w*Integral(v_dem(t)**2, t)) + k_pd*(g*(w - 2)*h(t) - g*(w - 2)*h_d(t) + k_tc*(g*hdot*(w - 2) - g*(w - 2)*Derivative(h_d(t), t) + vdot*w*v(t)) + 0.5*w*v(t)**2 - 0.5*w*v_dem(t)**2) + 0.5*w*(Integral(v(t)**2, t) - Integral(v_dem(t)**2, t)) + 0.5*w*v(t)**2 - 0.5*w*v_dem(t)**2)/(g*k_tc*v(t)))"
      ]
     },
     "execution_count": 14,
     "metadata": {},
     "output_type": "execute_result"
    }
   ],
   "source": [
    "fcl_2.simplify()"
   ]
  },
  {
   "cell_type": "markdown",
   "metadata": {},
   "source": [
    "### Transformation onto trim"
   ]
  },
  {
   "cell_type": "code",
   "execution_count": 15,
   "metadata": {},
   "outputs": [],
   "source": [
    "v_star, v_dem_star, h_star = sp.symbols(\"v^* v^*_dem h^*\")\n",
    "fclt_1 = fcl_1.subs({v: v_star+v_c, v_dem: v_dem_star+v_c})\n",
    "fclt_2 = fcl_2.subs({v: v_star+v_c, v_dem: v_dem_star+v_c})"
   ]
  },
  {
   "cell_type": "code",
   "execution_count": 16,
   "metadata": {},
   "outputs": [
    {
     "data": {
      "text/latex": [
       "$\\displaystyle \\frac{F_{t} \\left(g k_{tc}^{2} t_{trim} \\left(\\dot{h}_{cmax} + \\dot{h}_{smin}\\right) - 1.0 k_{i} k_{tc} \\left(t_{max} - t_{min}\\right) \\left(1.0 g \\int h{\\left(t \\right)}\\, dt - 1.0 g \\int h_{d}{\\left(t \\right)}\\, dt + 0.5 t \\left(v^{*} + v_{cruise}\\right)^{2} - 0.5 t \\left(v^{*}_{dem} + v_{cruise}\\right)^{2}\\right) + k_{tc} \\left(t_{max} - t_{min}\\right) \\left(- g h{\\left(t \\right)} + g h_{d}{\\left(t \\right)}\\right) - \\left(t_{max} - t_{min}\\right) \\left(k_{tc} \\left(g h{\\left(t \\right)} - g h_{d}{\\left(t \\right)} + 0.5 \\left(v^{*} + v_{cruise}\\right)^{2} - 0.5 \\left(v^{*}_{dem} + v_{cruise}\\right)^{2}\\right) + k_{td} \\left(g h{\\left(t \\right)} - g h_{d}{\\left(t \\right)} + k_{tc} \\left(g \\dot{h} + \\dot{v} \\left(v^{*} + v_{cruise}\\right)\\right)\\right)\\right)\\right) - g k_{tc}^{2} \\left(\\dot{h}_{cmax} + \\dot{h}_{smin}\\right) \\left(0.5 C_{drag} S \\rho \\left(v^{*} + v_{cruise}\\right)^{2} + g \\sin{\\left(\\frac{g k_{tc} \\left(w - 2\\right) \\frac{d}{d t} h_{d}{\\left(t \\right)} - g \\left(w - 2\\right) h{\\left(t \\right)} + g \\left(w - 2\\right) h_{d}{\\left(t \\right)} + 2.0 k_{i} \\left(- 0.5 g \\dot{h} k_{tc} t w + 1.0 g \\dot{h} k_{tc} t + 0.5 g k_{tc} w h_{d}{\\left(t \\right)} - 1.0 g k_{tc} h_{d}{\\left(t \\right)} - 0.5 g w \\int h{\\left(t \\right)}\\, dt + 0.5 g w \\int h_{d}{\\left(t \\right)}\\, dt + 1.0 g \\int h{\\left(t \\right)}\\, dt - 1.0 g \\int h_{d}{\\left(t \\right)}\\, dt - 0.5 k_{tc} t \\dot{v} w \\left(v^{*} + v_{cruise}\\right) - 0.25 t w \\left(v^{*} + v_{cruise}\\right)^{2} + 0.25 t w \\left(v^{*}_{dem} + v_{cruise}\\right)^{2}\\right) - k_{pd} \\left(g \\left(w - 2\\right) h{\\left(t \\right)} - g \\left(w - 2\\right) h_{d}{\\left(t \\right)} + k_{tc} \\left(g \\dot{h} \\left(w - 2\\right) - g \\left(w - 2\\right) \\frac{d}{d t} h_{d}{\\left(t \\right)} + \\dot{v} w \\left(v^{*} + v_{cruise}\\right)\\right) + 0.5 w \\left(v^{*} + v_{cruise}\\right)^{2} - 0.5 w \\left(v^{*}_{dem} + v_{cruise}\\right)^{2}\\right) - 0.5 t w \\left(\\left(v^{*} + v_{cruise}\\right)^{2} - \\left(v^{*}_{dem} + v_{cruise}\\right)^{2}\\right) - 0.5 w \\left(v^{*} + v_{cruise}\\right)^{2} + 0.5 w \\left(v^{*}_{dem} + v_{cruise}\\right)^{2}}{g k_{tc} \\left(v^{*} + v_{cruise}\\right)} \\right)}\\right)}{g k_{tc}^{2} m \\left(\\dot{h}_{cmax} + \\dot{h}_{smin}\\right)}$"
      ],
      "text/plain": [
       "(F_t*(g*k_tc**2*t_{trim}*(hdot_cmax + hdot_smin) - 1.0*k_i*k_tc*(t_{max} - t_{min})*(1.0*g*Integral(h(t), t) - 1.0*g*Integral(h_d(t), t) + 0.5*t*(v^* + v_cruise)**2 - 0.5*t*(v^*_dem + v_cruise)**2) + k_tc*(t_{max} - t_{min})*(-g*h(t) + g*h_d(t)) - (t_{max} - t_{min})*(k_tc*(g*h(t) - g*h_d(t) + 0.5*(v^* + v_cruise)**2 - 0.5*(v^*_dem + v_cruise)**2) + k_td*(g*h(t) - g*h_d(t) + k_tc*(g*hdot + vdot*(v^* + v_cruise))))) - g*k_tc**2*(hdot_cmax + hdot_smin)*(0.5*C_drag*S*rho*(v^* + v_cruise)**2 + g*sin((g*k_tc*(w - 2)*Derivative(h_d(t), t) - g*(w - 2)*h(t) + g*(w - 2)*h_d(t) + 2.0*k_i*(-0.5*g*hdot*k_tc*t*w + 1.0*g*hdot*k_tc*t + 0.5*g*k_tc*w*h_d(t) - 1.0*g*k_tc*h_d(t) - 0.5*g*w*Integral(h(t), t) + 0.5*g*w*Integral(h_d(t), t) + 1.0*g*Integral(h(t), t) - 1.0*g*Integral(h_d(t), t) - 0.5*k_tc*t*vdot*w*(v^* + v_cruise) - 0.25*t*w*(v^* + v_cruise)**2 + 0.25*t*w*(v^*_dem + v_cruise)**2) - k_pd*(g*(w - 2)*h(t) - g*(w - 2)*h_d(t) + k_tc*(g*hdot*(w - 2) - g*(w - 2)*Derivative(h_d(t), t) + vdot*w*(v^* + v_cruise)) + 0.5*w*(v^* + v_cruise)**2 - 0.5*w*(v^*_dem + v_cruise)**2) - 0.5*t*w*((v^* + v_cruise)**2 - (v^*_dem + v_cruise)**2) - 0.5*w*(v^* + v_cruise)**2 + 0.5*w*(v^*_dem + v_cruise)**2)/(g*k_tc*(v^* + v_cruise)))))/(g*k_tc**2*m*(hdot_cmax + hdot_smin))"
      ]
     },
     "execution_count": 16,
     "metadata": {},
     "output_type": "execute_result"
    }
   ],
   "source": [
    "fclt_1.simplify()"
   ]
  },
  {
   "cell_type": "code",
   "execution_count": 17,
   "metadata": {},
   "outputs": [
    {
     "data": {
      "text/latex": [
       "$\\displaystyle \\left(- v^{*} - v_{cruise}\\right) \\sin{\\left(\\frac{g k_{tc} \\left(w - 2\\right) \\frac{d}{d t} h_{d}{\\left(t \\right)} - g \\left(w - 2\\right) h{\\left(t \\right)} + g \\left(w - 2\\right) h_{d}{\\left(t \\right)} + 2.0 k_{i} \\left(- 0.5 g \\dot{h} k_{tc} t w + 1.0 g \\dot{h} k_{tc} t + 0.5 g k_{tc} w h_{d}{\\left(t \\right)} - 1.0 g k_{tc} h_{d}{\\left(t \\right)} - 0.5 g w \\int h{\\left(t \\right)}\\, dt + 0.5 g w \\int h_{d}{\\left(t \\right)}\\, dt + 1.0 g \\int h{\\left(t \\right)}\\, dt - 1.0 g \\int h_{d}{\\left(t \\right)}\\, dt - 0.5 k_{tc} t \\dot{v} w \\left(v^{*} + v_{cruise}\\right) - 0.25 t w \\left(v^{*} + v_{cruise}\\right)^{2} + 0.25 t w \\left(v^{*}_{dem} + v_{cruise}\\right)^{2}\\right) - k_{pd} \\left(g \\left(w - 2\\right) h{\\left(t \\right)} - g \\left(w - 2\\right) h_{d}{\\left(t \\right)} + k_{tc} \\left(g \\dot{h} \\left(w - 2\\right) - g \\left(w - 2\\right) \\frac{d}{d t} h_{d}{\\left(t \\right)} + \\dot{v} w \\left(v^{*} + v_{cruise}\\right)\\right) + 0.5 w \\left(v^{*} + v_{cruise}\\right)^{2} - 0.5 w \\left(v^{*}_{dem} + v_{cruise}\\right)^{2}\\right) - 0.5 t w \\left(\\left(v^{*} + v_{cruise}\\right)^{2} - \\left(v^{*}_{dem} + v_{cruise}\\right)^{2}\\right) - 0.5 w \\left(v^{*} + v_{cruise}\\right)^{2} + 0.5 w \\left(v^{*}_{dem} + v_{cruise}\\right)^{2}}{g k_{tc} \\left(v^{*} + v_{cruise}\\right)} \\right)}$"
      ],
      "text/plain": [
       "(-v^* - v_cruise)*sin((g*k_tc*(w - 2)*Derivative(h_d(t), t) - g*(w - 2)*h(t) + g*(w - 2)*h_d(t) + 2.0*k_i*(-0.5*g*hdot*k_tc*t*w + 1.0*g*hdot*k_tc*t + 0.5*g*k_tc*w*h_d(t) - 1.0*g*k_tc*h_d(t) - 0.5*g*w*Integral(h(t), t) + 0.5*g*w*Integral(h_d(t), t) + 1.0*g*Integral(h(t), t) - 1.0*g*Integral(h_d(t), t) - 0.5*k_tc*t*vdot*w*(v^* + v_cruise) - 0.25*t*w*(v^* + v_cruise)**2 + 0.25*t*w*(v^*_dem + v_cruise)**2) - k_pd*(g*(w - 2)*h(t) - g*(w - 2)*h_d(t) + k_tc*(g*hdot*(w - 2) - g*(w - 2)*Derivative(h_d(t), t) + vdot*w*(v^* + v_cruise)) + 0.5*w*(v^* + v_cruise)**2 - 0.5*w*(v^*_dem + v_cruise)**2) - 0.5*t*w*((v^* + v_cruise)**2 - (v^*_dem + v_cruise)**2) - 0.5*w*(v^* + v_cruise)**2 + 0.5*w*(v^*_dem + v_cruise)**2)/(g*k_tc*(v^* + v_cruise)))"
      ]
     },
     "execution_count": 17,
     "metadata": {},
     "output_type": "execute_result"
    }
   ],
   "source": [
    "fclt_2.simplify()"
   ]
  },
  {
   "cell_type": "markdown",
   "metadata": {},
   "source": [
    "### Is origin a solution?"
   ]
  },
  {
   "cell_type": "code",
   "execution_count": 22,
   "metadata": {},
   "outputs": [
    {
     "data": {
      "text/latex": [
       "$\\displaystyle - \\frac{1.0 \\left(0.5 C_{drag} S \\rho v_{cruise}^{2} - 1.0 F_{t} t_{trim}\\right)}{m}$"
      ],
      "text/plain": [
       "-1.0*(0.5*C_drag*S*rho*v_cruise**2 - 1.0*F_t*t_{trim})/m"
      ]
     },
     "execution_count": 22,
     "metadata": {},
     "output_type": "execute_result"
    }
   ],
   "source": [
    "fclt_1.subs({v_star: 0, v_dot: 0, h: 0, h_dot: 0, v_dem_star: 0, h_dem: 0}).simplify().factor()"
   ]
  },
  {
   "cell_type": "markdown",
   "metadata": {},
   "source": [
    "Basically yes, when thrust is equal to drag."
   ]
  },
  {
   "cell_type": "code",
   "execution_count": 29,
   "metadata": {},
   "outputs": [
    {
     "data": {
      "text/latex": [
       "$\\displaystyle 0$"
      ],
      "text/plain": [
       "0"
      ]
     },
     "execution_count": 29,
     "metadata": {},
     "output_type": "execute_result"
    }
   ],
   "source": [
    "fclt_2.subs({v_star: 0, v_dot: 0, h: 0, v_dem_star: 0, h_dem: 0, h_dot: 0, h_dot_dem_: 0, v_dot_: 0}).simplify()"
   ]
  },
  {
   "cell_type": "markdown",
   "metadata": {},
   "source": [
    "Also yes."
   ]
  }
 ],
 "metadata": {
  "kernelspec": {
   "display_name": "63-18-ardupilot-controller-analysis-w0ECA3WZ-py3.12",
   "language": "python",
   "name": "python3"
  },
  "language_info": {
   "codemirror_mode": {
    "name": "ipython",
    "version": 3
   },
   "file_extension": ".py",
   "mimetype": "text/x-python",
   "name": "python",
   "nbconvert_exporter": "python",
   "pygments_lexer": "ipython3",
   "version": "3.12.1"
  }
 },
 "nbformat": 4,
 "nbformat_minor": 2
}
