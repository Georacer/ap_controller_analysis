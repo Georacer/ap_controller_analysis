{
 "cells": [
  {
   "cell_type": "code",
   "execution_count": 1,
   "metadata": {},
   "outputs": [],
   "source": [
    "import sympy\n",
    "from sympy.plotting import plot\n",
    "import sympy as sp\n",
    "import penbegone as pbg\n",
    "from penbegone import common as bgcom\n",
    "from penbegone import plotting as bgplot\n",
    "from penbegone.common import printeq\n",
    "\n",
    "%matplotlib inline\n",
    "%load_ext blackcellmagic\n",
    "%load_ext autoreload\n",
    "%autoreload 2"
   ]
  },
  {
   "cell_type": "markdown",
   "metadata": {},
   "source": [
    "## System definition"
   ]
  },
  {
   "cell_type": "code",
   "execution_count": 2,
   "metadata": {},
   "outputs": [],
   "source": [
    "V, a, de, dt = sp.symbols(\"V a de dt\")\n",
    "V_star, a_star = sp.symbols(\"V_star a_star\")\n",
    "k, rho, S, C_D0, C_Da, C_m0, C_ma, C_mde, V_p = sp.symbols(\"k, rho, S, C_D0, C_Da, C_m0, C_ma, C_mde, V_p\")\n",
    "K_V, V_d, K_a, a_d = sp.symbols(\"K_V, V_d, K_a, a_d\")"
   ]
  },
  {
   "cell_type": "code",
   "execution_count": 3,
   "metadata": {},
   "outputs": [],
   "source": [
    "V_dot_ = 0.5*rho*V**2*S*(C_D0 + C_Da*a) + k*dt\n",
    "alpha_dot_ = 0.5*rho*V**2*S*(C_m0 + C_ma*a + C_mde*de)\n",
    "\n",
    "Sys = [V_dot_, alpha_dot_]\n",
    "states = [V, a]\n",
    "states_tr = [V_star, a_star]"
   ]
  },
  {
   "cell_type": "markdown",
   "metadata": {},
   "source": [
    "## Controller"
   ]
  },
  {
   "cell_type": "code",
   "execution_count": 4,
   "metadata": {},
   "outputs": [],
   "source": [
    "dt_ = K_V*(V_d - V)\n",
    "de_ = K_a*(a_d - a)\n",
    "C = {dt: dt_, de: de_}"
   ]
  },
  {
   "cell_type": "markdown",
   "metadata": {},
   "source": [
    "## Autonomous system"
   ]
  },
  {
   "cell_type": "code",
   "execution_count": 5,
   "metadata": {},
   "outputs": [
    {
     "data": {
      "text/plain": [
       "[-K_V*k*(V - V_d) + 0.5*S*V**2*rho*(C_D0 + C_Da*a),\n",
       " 0.5*S*V**2*rho*(C_m0 + C_ma*a - C_mde*K_a*(a - a_d))]"
      ]
     },
     "execution_count": 5,
     "metadata": {},
     "output_type": "execute_result"
    }
   ],
   "source": [
    "Sys_a = [s_i.subs(C).simplify() for s_i in Sys]\n",
    "Sys_a"
   ]
  },
  {
   "cell_type": "markdown",
   "metadata": {},
   "source": [
    "## Equilibrium points"
   ]
  },
  {
   "cell_type": "code",
   "execution_count": 6,
   "metadata": {},
   "outputs": [
    {
     "data": {
      "text/plain": [
       "[{V: K_V*k*(C_ma - C_mde*K_a)/(S*rho*(C_D0*C_ma - C_D0*C_mde*K_a - C_Da*C_m0 - C_Da*C_mde*K_a*a_d)) - sqrt(K_V*k*(C_ma - C_mde*K_a)*(-2.0*C_D0*C_ma*S*V_d*rho + 2.0*C_D0*C_mde*K_a*S*V_d*rho + 2.0*C_Da*C_m0*S*V_d*rho + 2.0*C_Da*C_mde*K_a*S*V_d*a_d*rho + C_ma*K_V*k - C_mde*K_V*K_a*k))/(S*rho*(C_D0*C_ma - C_D0*C_mde*K_a - C_Da*C_m0 - C_Da*C_mde*K_a*a_d)),\n",
       "  a: -(C_m0 + C_mde*K_a*a_d)/(C_ma - C_mde*K_a)},\n",
       " {V: K_V*k*(C_ma - C_mde*K_a)/(S*rho*(C_D0*C_ma - C_D0*C_mde*K_a - C_Da*C_m0 - C_Da*C_mde*K_a*a_d)) + sqrt(K_V*k*(C_ma - C_mde*K_a)*(-2.0*C_D0*C_ma*S*V_d*rho + 2.0*C_D0*C_mde*K_a*S*V_d*rho + 2.0*C_Da*C_m0*S*V_d*rho + 2.0*C_Da*C_mde*K_a*S*V_d*a_d*rho + C_ma*K_V*k - C_mde*K_V*K_a*k))/(S*rho*(C_D0*C_ma - C_D0*C_mde*K_a - C_Da*C_m0 - C_Da*C_mde*K_a*a_d)),\n",
       "  a: -(C_m0 + C_mde*K_a*a_d)/(C_ma - C_mde*K_a)}]"
      ]
     },
     "execution_count": 6,
     "metadata": {},
     "output_type": "execute_result"
    }
   ],
   "source": [
    "e_points = sp.solve(Sys_a, states, dict=True)\n",
    "e_points"
   ]
  },
  {
   "cell_type": "code",
   "execution_count": 7,
   "metadata": {},
   "outputs": [
    {
     "data": {
      "text/latex": [
       "$\\displaystyle \\frac{- K_{V} k \\left(C_{ma} - C_{mde} K_{a}\\right) - \\sqrt{K_{V} k \\left(C_{ma} - C_{mde} K_{a}\\right) \\left(- 2.0 C_{D0} C_{ma} S V_{d} \\rho + 2.0 C_{D0} C_{mde} K_{a} S V_{d} \\rho + 2.0 C_{Da} C_{m0} S V_{d} \\rho + 2.0 C_{Da} C_{mde} K_{a} S V_{d} a_{d} \\rho + C_{ma} K_{V} k - C_{mde} K_{V} K_{a} k\\right)}}{S \\rho \\left(- C_{D0} C_{ma} + C_{D0} C_{mde} K_{a} + C_{Da} C_{m0} + C_{Da} C_{mde} K_{a} a_{d}\\right)}$"
      ],
      "text/plain": [
       "(-K_V*k*(C_ma - C_mde*K_a) - sqrt(K_V*k*(C_ma - C_mde*K_a)*(-2.0*C_D0*C_ma*S*V_d*rho + 2.0*C_D0*C_mde*K_a*S*V_d*rho + 2.0*C_Da*C_m0*S*V_d*rho + 2.0*C_Da*C_mde*K_a*S*V_d*a_d*rho + C_ma*K_V*k - C_mde*K_V*K_a*k)))/(S*rho*(-C_D0*C_ma + C_D0*C_mde*K_a + C_Da*C_m0 + C_Da*C_mde*K_a*a_d))"
      ]
     },
     "metadata": {},
     "output_type": "display_data"
    },
    {
     "data": {
      "text/latex": [
       "$\\displaystyle \\frac{- C_{m0} - C_{mde} K_{a} a_{d}}{C_{ma} - C_{mde} K_{a}}$"
      ],
      "text/plain": [
       "(-C_m0 - C_mde*K_a*a_d)/(C_ma - C_mde*K_a)"
      ]
     },
     "metadata": {},
     "output_type": "display_data"
    }
   ],
   "source": [
    "sol_idx = 1\n",
    "states_trim = {k: x.simplify() for k, x in e_points[sol_idx].items()}  # Ignoring the other solution.\n",
    "for s in states_trim.values():\n",
    "    display(s)"
   ]
  },
  {
   "cell_type": "markdown",
   "metadata": {},
   "source": [
    "## Translated system"
   ]
  },
  {
   "cell_type": "code",
   "execution_count": 8,
   "metadata": {},
   "outputs": [
    {
     "data": {
      "text/latex": [
       "$\\displaystyle \\frac{K_{V} k \\left(C_{ma} - C_{mde} K_{a}\\right) \\left(K_{V} k \\left(C_{ma} - C_{mde} K_{a}\\right) + S \\rho \\left(V_{d} - V_{star}\\right) \\left(- C_{D0} C_{ma} + C_{D0} C_{mde} K_{a} + C_{Da} C_{m0} + C_{Da} C_{mde} K_{a} a_{d}\\right) + \\sqrt{K_{V} k \\left(C_{ma} - C_{mde} K_{a}\\right) \\left(- 2.0 C_{D0} C_{ma} S V_{d} \\rho + 2.0 C_{D0} C_{mde} K_{a} S V_{d} \\rho + 2.0 C_{Da} C_{m0} S V_{d} \\rho + 2.0 C_{Da} C_{mde} K_{a} S V_{d} a_{d} \\rho + C_{ma} K_{V} k - C_{mde} K_{V} K_{a} k\\right)}\\right) \\left(- C_{D0} C_{ma} + C_{D0} C_{mde} K_{a} + C_{Da} C_{m0} + C_{Da} C_{mde} K_{a} a_{d}\\right) + 0.5 \\left(C_{D0} \\left(C_{ma} - C_{mde} K_{a}\\right) + C_{Da} \\left(- C_{m0} - C_{mde} K_{a} a_{d} + a_{star} \\left(C_{ma} - C_{mde} K_{a}\\right)\\right)\\right) \\left(- K_{V} k \\left(C_{ma} - C_{mde} K_{a}\\right) + S V_{star} \\rho \\left(- C_{D0} C_{ma} + C_{D0} C_{mde} K_{a} + C_{Da} C_{m0} + C_{Da} C_{mde} K_{a} a_{d}\\right) - \\sqrt{K_{V} k \\left(C_{ma} - C_{mde} K_{a}\\right) \\left(- 2.0 C_{D0} C_{ma} S V_{d} \\rho + 2.0 C_{D0} C_{mde} K_{a} S V_{d} \\rho + 2.0 C_{Da} C_{m0} S V_{d} \\rho + 2.0 C_{Da} C_{mde} K_{a} S V_{d} a_{d} \\rho + C_{ma} K_{V} k - C_{mde} K_{V} K_{a} k\\right)}\\right)^{2}}{S \\rho \\left(C_{ma} - C_{mde} K_{a}\\right) \\left(- C_{D0} C_{ma} + C_{D0} C_{mde} K_{a} + C_{Da} C_{m0} + C_{Da} C_{mde} K_{a} a_{d}\\right)^{2}}$"
      ],
      "text/plain": [
       "(K_V*k*(C_ma - C_mde*K_a)*(K_V*k*(C_ma - C_mde*K_a) + S*rho*(V_d - V_star)*(-C_D0*C_ma + C_D0*C_mde*K_a + C_Da*C_m0 + C_Da*C_mde*K_a*a_d) + sqrt(K_V*k*(C_ma - C_mde*K_a)*(-2.0*C_D0*C_ma*S*V_d*rho + 2.0*C_D0*C_mde*K_a*S*V_d*rho + 2.0*C_Da*C_m0*S*V_d*rho + 2.0*C_Da*C_mde*K_a*S*V_d*a_d*rho + C_ma*K_V*k - C_mde*K_V*K_a*k)))*(-C_D0*C_ma + C_D0*C_mde*K_a + C_Da*C_m0 + C_Da*C_mde*K_a*a_d) + 0.5*(C_D0*(C_ma - C_mde*K_a) + C_Da*(-C_m0 - C_mde*K_a*a_d + a_star*(C_ma - C_mde*K_a)))*(-K_V*k*(C_ma - C_mde*K_a) + S*V_star*rho*(-C_D0*C_ma + C_D0*C_mde*K_a + C_Da*C_m0 + C_Da*C_mde*K_a*a_d) - sqrt(K_V*k*(C_ma - C_mde*K_a)*(-2.0*C_D0*C_ma*S*V_d*rho + 2.0*C_D0*C_mde*K_a*S*V_d*rho + 2.0*C_Da*C_m0*S*V_d*rho + 2.0*C_Da*C_mde*K_a*S*V_d*a_d*rho + C_ma*K_V*k - C_mde*K_V*K_a*k)))**2)/(S*rho*(C_ma - C_mde*K_a)*(-C_D0*C_ma + C_D0*C_mde*K_a + C_Da*C_m0 + C_Da*C_mde*K_a*a_d)**2)"
      ]
     },
     "metadata": {},
     "output_type": "display_data"
    },
    {
     "data": {
      "text/latex": [
       "$\\displaystyle \\frac{0.5 \\left(C_{m0} \\left(C_{ma} - C_{mde} K_{a}\\right) + C_{ma} \\left(- C_{m0} - C_{mde} K_{a} a_{d} + a_{star} \\left(C_{ma} - C_{mde} K_{a}\\right)\\right) + C_{mde} K_{a} \\left(C_{m0} + C_{mde} K_{a} a_{d} + \\left(C_{ma} - C_{mde} K_{a}\\right) \\left(a_{d} - a_{star}\\right)\\right)\\right) \\left(- K_{V} k \\left(C_{ma} - C_{mde} K_{a}\\right) + S V_{star} \\rho \\left(- C_{D0} C_{ma} + C_{D0} C_{mde} K_{a} + C_{Da} C_{m0} + C_{Da} C_{mde} K_{a} a_{d}\\right) - \\sqrt{K_{V} k \\left(C_{ma} - C_{mde} K_{a}\\right) \\left(- 2.0 C_{D0} C_{ma} S V_{d} \\rho + 2.0 C_{D0} C_{mde} K_{a} S V_{d} \\rho + 2.0 C_{Da} C_{m0} S V_{d} \\rho + 2.0 C_{Da} C_{mde} K_{a} S V_{d} a_{d} \\rho + C_{ma} K_{V} k - C_{mde} K_{V} K_{a} k\\right)}\\right)^{2}}{S \\rho \\left(C_{ma} - C_{mde} K_{a}\\right) \\left(- C_{D0} C_{ma} + C_{D0} C_{mde} K_{a} + C_{Da} C_{m0} + C_{Da} C_{mde} K_{a} a_{d}\\right)^{2}}$"
      ],
      "text/plain": [
       "0.5*(C_m0*(C_ma - C_mde*K_a) + C_ma*(-C_m0 - C_mde*K_a*a_d + a_star*(C_ma - C_mde*K_a)) + C_mde*K_a*(C_m0 + C_mde*K_a*a_d + (C_ma - C_mde*K_a)*(a_d - a_star)))*(-K_V*k*(C_ma - C_mde*K_a) + S*V_star*rho*(-C_D0*C_ma + C_D0*C_mde*K_a + C_Da*C_m0 + C_Da*C_mde*K_a*a_d) - sqrt(K_V*k*(C_ma - C_mde*K_a)*(-2.0*C_D0*C_ma*S*V_d*rho + 2.0*C_D0*C_mde*K_a*S*V_d*rho + 2.0*C_Da*C_m0*S*V_d*rho + 2.0*C_Da*C_mde*K_a*S*V_d*a_d*rho + C_ma*K_V*k - C_mde*K_V*K_a*k)))**2/(S*rho*(C_ma - C_mde*K_a)*(-C_D0*C_ma + C_D0*C_mde*K_a + C_Da*C_m0 + C_Da*C_mde*K_a*a_d)**2)"
      ]
     },
     "metadata": {},
     "output_type": "display_data"
    }
   ],
   "source": [
    "trans_dict = dict()\n",
    "for i, st in enumerate(states):\n",
    "    trans_dict[states[i]] = states_tr[i] + states_trim[st]\n",
    "Sys_tr = [s_i.subs(trans_dict).simplify() for s_i in Sys_a]\n",
    "for s in Sys_tr:\n",
    "    display(s)"
   ]
  },
  {
   "cell_type": "markdown",
   "metadata": {},
   "source": [
    "## Linearization"
   ]
  },
  {
   "cell_type": "code",
   "execution_count": 9,
   "metadata": {},
   "outputs": [
    {
     "data": {
      "text/latex": [
       "$\\displaystyle \\left[\\begin{matrix}\\frac{2.0 \\sqrt{K_{V} k \\left(- 0.5 C_{D0} C_{ma}^{2} S V_{d} \\rho + C_{D0} C_{ma} C_{mde} K_{a} S V_{d} \\rho - 0.5 C_{D0} C_{mde}^{2} K_{a}^{2} S V_{d} \\rho + 0.5 C_{Da} C_{m0} C_{ma} S V_{d} \\rho - 0.5 C_{Da} C_{m0} C_{mde} K_{a} S V_{d} \\rho + 0.5 C_{Da} C_{ma} C_{mde} K_{a} S V_{d} a_{d} \\rho - 0.5 C_{Da} C_{mde}^{2} K_{a}^{2} S V_{d} a_{d} \\rho + 0.25 C_{ma}^{2} K_{V} k - 0.5 C_{ma} C_{mde} K_{V} K_{a} k + 0.25 C_{mde}^{2} K_{V} K_{a}^{2} k\\right)}}{C_{ma} - C_{mde} K_{a}} & \\frac{0.5 C_{Da} \\left(K_{V} k \\left(C_{ma} - C_{mde} K_{a}\\right) + \\sqrt{K_{V} k \\left(C_{ma} - C_{mde} K_{a}\\right) \\left(- 2.0 C_{D0} C_{ma} S V_{d} \\rho + 2.0 C_{D0} C_{mde} K_{a} S V_{d} \\rho + 2.0 C_{Da} C_{m0} S V_{d} \\rho + 2.0 C_{Da} C_{mde} K_{a} S V_{d} a_{d} \\rho + C_{ma} K_{V} k - C_{mde} K_{V} K_{a} k\\right)}\\right)^{2}}{S \\rho \\left(- C_{D0} C_{ma} + C_{D0} C_{mde} K_{a} + C_{Da} C_{m0} + C_{Da} C_{mde} K_{a} a_{d}\\right)^{2}}\\\\0 & \\frac{0.5 \\left(C_{ma} - C_{mde} K_{a}\\right) \\left(K_{V} k \\left(C_{ma} - C_{mde} K_{a}\\right) + \\sqrt{K_{V} k \\left(C_{ma} - C_{mde} K_{a}\\right) \\left(- 2.0 C_{D0} C_{ma} S V_{d} \\rho + 2.0 C_{D0} C_{mde} K_{a} S V_{d} \\rho + 2.0 C_{Da} C_{m0} S V_{d} \\rho + 2.0 C_{Da} C_{mde} K_{a} S V_{d} a_{d} \\rho + C_{ma} K_{V} k - C_{mde} K_{V} K_{a} k\\right)}\\right)^{2}}{S \\rho \\left(- C_{D0} C_{ma} + C_{D0} C_{mde} K_{a} + C_{Da} C_{m0} + C_{Da} C_{mde} K_{a} a_{d}\\right)^{2}}\\end{matrix}\\right]$"
      ],
      "text/plain": [
       "Matrix([\n",
       "[2.0*sqrt(K_V*k*(-0.5*C_D0*C_ma**2*S*V_d*rho + C_D0*C_ma*C_mde*K_a*S*V_d*rho - 0.5*C_D0*C_mde**2*K_a**2*S*V_d*rho + 0.5*C_Da*C_m0*C_ma*S*V_d*rho - 0.5*C_Da*C_m0*C_mde*K_a*S*V_d*rho + 0.5*C_Da*C_ma*C_mde*K_a*S*V_d*a_d*rho - 0.5*C_Da*C_mde**2*K_a**2*S*V_d*a_d*rho + 0.25*C_ma**2*K_V*k - 0.5*C_ma*C_mde*K_V*K_a*k + 0.25*C_mde**2*K_V*K_a**2*k))/(C_ma - C_mde*K_a),               0.5*C_Da*(K_V*k*(C_ma - C_mde*K_a) + sqrt(K_V*k*(C_ma - C_mde*K_a)*(-2.0*C_D0*C_ma*S*V_d*rho + 2.0*C_D0*C_mde*K_a*S*V_d*rho + 2.0*C_Da*C_m0*S*V_d*rho + 2.0*C_Da*C_mde*K_a*S*V_d*a_d*rho + C_ma*K_V*k - C_mde*K_V*K_a*k)))**2/(S*rho*(-C_D0*C_ma + C_D0*C_mde*K_a + C_Da*C_m0 + C_Da*C_mde*K_a*a_d)**2)],\n",
       "[                                                                                                                                                                                                                                                                                                                                                                     0, 0.5*(C_ma - C_mde*K_a)*(K_V*k*(C_ma - C_mde*K_a) + sqrt(K_V*k*(C_ma - C_mde*K_a)*(-2.0*C_D0*C_ma*S*V_d*rho + 2.0*C_D0*C_mde*K_a*S*V_d*rho + 2.0*C_Da*C_m0*S*V_d*rho + 2.0*C_Da*C_mde*K_a*S*V_d*a_d*rho + C_ma*K_V*k - C_mde*K_V*K_a*k)))**2/(S*rho*(-C_D0*C_ma + C_D0*C_mde*K_a + C_Da*C_m0 + C_Da*C_mde*K_a*a_d)**2)]])"
      ]
     },
     "metadata": {},
     "output_type": "display_data"
    }
   ],
   "source": [
    "A = sp.zeros(len(states_tr), len(states_tr))\n",
    "zero_state = {st: 0 for st in states_tr}\n",
    "for i, f in enumerate(Sys_tr):\n",
    "    for j, x in enumerate(states_tr):\n",
    "        A[i, j] = sp.diff(f, x).subs(zero_state).simplify()\n",
    "display(A)"
   ]
  },
  {
   "cell_type": "code",
   "execution_count": 10,
   "metadata": {},
   "outputs": [
    {
     "data": {
      "text/plain": [
       "{K_V*k*(-1.0*C_D0*C_ma**3*S*V_d*rho + 3.0*C_D0*C_ma**2*C_mde*K_a*S*V_d*rho - 3.0*C_D0*C_ma*C_mde**2*K_a**2*S*V_d*rho + 1.0*C_D0*C_mde**3*K_a**3*S*V_d*rho + 1.0*C_Da*C_m0*C_ma**2*S*V_d*rho - 2.0*C_Da*C_m0*C_ma*C_mde*K_a*S*V_d*rho + 1.0*C_Da*C_m0*C_mde**2*K_a**2*S*V_d*rho + 1.0*C_Da*C_ma**2*C_mde*K_a*S*V_d*a_d*rho - 2.0*C_Da*C_ma*C_mde**2*K_a**2*S*V_d*a_d*rho + 1.0*C_Da*C_mde**3*K_a**3*S*V_d*a_d*rho + 1.0*C_ma**3*K_V*k - 3.0*C_ma**2*C_mde*K_V*K_a*k + 2.0*C_ma**2*sqrt(K_V*k*(-0.5*C_D0*C_ma**2*S*V_d*rho + C_D0*C_ma*C_mde*K_a*S*V_d*rho - 0.5*C_D0*C_mde**2*K_a**2*S*V_d*rho + 0.5*C_Da*C_m0*C_ma*S*V_d*rho - 0.5*C_Da*C_m0*C_mde*K_a*S*V_d*rho + 0.5*C_Da*C_ma*C_mde*K_a*S*V_d*a_d*rho - 0.5*C_Da*C_mde**2*K_a**2*S*V_d*a_d*rho + 0.25*C_ma**2*K_V*k - 0.5*C_ma*C_mde*K_V*K_a*k + 0.25*C_mde**2*K_V*K_a**2*k)) + 3.0*C_ma*C_mde**2*K_V*K_a**2*k - 4.0*C_ma*C_mde*K_a*sqrt(K_V*k*(-0.5*C_D0*C_ma**2*S*V_d*rho + C_D0*C_ma*C_mde*K_a*S*V_d*rho - 0.5*C_D0*C_mde**2*K_a**2*S*V_d*rho + 0.5*C_Da*C_m0*C_ma*S*V_d*rho - 0.5*C_Da*C_m0*C_mde*K_a*S*V_d*rho + 0.5*C_Da*C_ma*C_mde*K_a*S*V_d*a_d*rho - 0.5*C_Da*C_mde**2*K_a**2*S*V_d*a_d*rho + 0.25*C_ma**2*K_V*k - 0.5*C_ma*C_mde*K_V*K_a*k + 0.25*C_mde**2*K_V*K_a**2*k)) - 1.0*C_mde**3*K_V*K_a**3*k + 2.0*C_mde**2*K_a**2*sqrt(K_V*k*(-0.5*C_D0*C_ma**2*S*V_d*rho + C_D0*C_ma*C_mde*K_a*S*V_d*rho - 0.5*C_D0*C_mde**2*K_a**2*S*V_d*rho + 0.5*C_Da*C_m0*C_ma*S*V_d*rho - 0.5*C_Da*C_m0*C_mde*K_a*S*V_d*rho + 0.5*C_Da*C_ma*C_mde*K_a*S*V_d*a_d*rho - 0.5*C_Da*C_mde**2*K_a**2*S*V_d*a_d*rho + 0.25*C_ma**2*K_V*k - 0.5*C_ma*C_mde*K_V*K_a*k + 0.25*C_mde**2*K_V*K_a**2*k)))/(S*rho*(C_D0**2*C_ma**2 - 2*C_D0**2*C_ma*C_mde*K_a + C_D0**2*C_mde**2*K_a**2 - 2*C_D0*C_Da*C_m0*C_ma + 2*C_D0*C_Da*C_m0*C_mde*K_a - 2*C_D0*C_Da*C_ma*C_mde*K_a*a_d + 2*C_D0*C_Da*C_mde**2*K_a**2*a_d + C_Da**2*C_m0**2 + 2*C_Da**2*C_m0*C_mde*K_a*a_d + C_Da**2*C_mde**2*K_a**2*a_d**2)): 1,\n",
       " 2.0*sqrt(K_V*k*(-0.5*C_D0*C_ma**2*S*V_d*rho + C_D0*C_ma*C_mde*K_a*S*V_d*rho - 0.5*C_D0*C_mde**2*K_a**2*S*V_d*rho + 0.5*C_Da*C_m0*C_ma*S*V_d*rho - 0.5*C_Da*C_m0*C_mde*K_a*S*V_d*rho + 0.5*C_Da*C_ma*C_mde*K_a*S*V_d*a_d*rho - 0.5*C_Da*C_mde**2*K_a**2*S*V_d*a_d*rho + 0.25*C_ma**2*K_V*k - 0.5*C_ma*C_mde*K_V*K_a*k + 0.25*C_mde**2*K_V*K_a**2*k))/(C_ma - C_mde*K_a): 1}"
      ]
     },
     "execution_count": 10,
     "metadata": {},
     "output_type": "execute_result"
    }
   ],
   "source": [
    "A.eigenvals()"
   ]
  },
  {
   "cell_type": "code",
   "execution_count": 11,
   "metadata": {},
   "outputs": [
    {
     "data": {
      "text/latex": [
       "$\\displaystyle \\left[\\begin{matrix}-20.3676804337166 & -62.0186697824019\\\\0 & -181.921431361712\\end{matrix}\\right]$"
      ],
      "text/plain": [
       "Matrix([\n",
       "[-20.3676804337166, -62.0186697824019],\n",
       "[                0, -181.921431361712]])"
      ]
     },
     "metadata": {},
     "output_type": "display_data"
    },
    {
     "data": {
      "text/plain": [
       "[24.7722928158329, -0.0265681818181818]"
      ]
     },
     "metadata": {},
     "output_type": "display_data"
    },
    {
     "data": {
      "text/plain": [
       "[0.227707184167052, 0.0265681818181818]"
      ]
     },
     "metadata": {},
     "output_type": "display_data"
    }
   ],
   "source": [
    "values_dict = {\n",
    "    C_D0: -0.03,\n",
    "    C_Da: -0.3,\n",
    "    C_m0: -0.02338,\n",
    "    C_ma: -0.38,\n",
    "    C_mde: 0.5,\n",
    "    rho: 1.225,\n",
    "    S: 0.55,\n",
    "    V_d: 25,\n",
    "    a_d: 0.0*3.14/180,\n",
    "    k: 20,\n",
    "    K_V: 1,\n",
    "    K_a: 1,\n",
    "}\n",
    "A_num_ = A.subs(values_dict)\n",
    "display(A_num_)\n",
    "states_trim_ = [s.subs(values_dict) for s in states_trim.values()]\n",
    "display(states_trim_)\n",
    "C_ = [c for c in C.values()]\n",
    "C_ = [c.subs(states_trim) for c in C_]\n",
    "C_ = [c.subs(values_dict) for c in C_]\n",
    "display(C_)"
   ]
  },
  {
   "cell_type": "markdown",
   "metadata": {},
   "source": [
    "## Phase portrait"
   ]
  },
  {
   "cell_type": "code",
   "execution_count": 12,
   "metadata": {},
   "outputs": [
    {
     "data": {
      "text/plain": [
       "<matplotlib.quiver.Quiver at 0x71b2a120db50>"
      ]
     },
     "execution_count": 12,
     "metadata": {},
     "output_type": "execute_result"
    },
    {
     "data": {
      "image/png": "[encoded data removed]",
      "text/plain": [
       "<Figure size 640x480 with 1 Axes>"
      ]
     },
     "metadata": {},
     "output_type": "display_data"
    }
   ],
   "source": [
    "from sympy.utilities.autowrap import ufuncify\n",
    "import numpy as np\n",
    "import matplotlib.pyplot as plt\n",
    "X, Y = np.meshgrid(np.arange(20,31,1), np.arange(-5,5,1)*3.14/180)\n",
    "uxy = ufuncify((V, a), Sys_a[0].subs(values_dict))\n",
    "vxy = ufuncify((V, a), Sys_a[1].subs(values_dict))\n",
    "plt.figure()\n",
    "plt.quiver(X, Y, uxy(X, Y), vxy(X, Y))"
   ]
  }
 ],
 "metadata": {
  "kernelspec": {
   "display_name": "63-18-ardupilot-controller-analysis",
   "language": "python",
   "name": "python3"
  },
  "language_info": {
   "codemirror_mode": {
    "name": "ipython",
    "version": 3
   },
   "file_extension": ".py",
   "mimetype": "text/x-python",
   "name": "python",
   "nbconvert_exporter": "python",
   "pygments_lexer": "ipython3",
   "version": "3.12.9"
  }
 },
 "nbformat": 4,
 "nbformat_minor": 2
}
